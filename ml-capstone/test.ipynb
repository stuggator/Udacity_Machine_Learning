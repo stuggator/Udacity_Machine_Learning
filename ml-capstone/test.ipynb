{
 "cells": [
  {
   "cell_type": "code",
   "execution_count": 1,
   "metadata": {},
   "outputs": [
    {
     "name": "stderr",
     "output_type": "stream",
     "text": [
      "C:\\ProgramData\\Anaconda3\\lib\\site-packages\\sklearn\\cross_validation.py:41: DeprecationWarning: This module was deprecated in version 0.18 in favor of the model_selection module into which all the refactored classes and functions are moved. Also note that the interface of the new CV iterators are different from that of this module. This module will be removed in 0.20.\n",
      "  \"This module will be removed in 0.20.\", DeprecationWarning)\n",
      "C:\\ProgramData\\Anaconda3\\lib\\site-packages\\sklearn\\learning_curve.py:22: DeprecationWarning: This module was deprecated in version 0.18 in favor of the model_selection module into which all the functions are moved. This module will be removed in 0.20\n",
      "  DeprecationWarning)\n"
     ]
    },
    {
     "name": "stdout",
     "output_type": "stream",
     "text": [
      "dataset has 35040 samples with 4 features each.\n",
      "dataset has 35040 samples with 10 features each.\n",
      "dataset has 35040 samples with 4 features each.\n",
      "dataset has 35040 samples with 7 features each.\n",
      "dataset has 35040 samples with 3 features each.\n",
      "dataset has 35040 samples with 14 features each.\n",
      "dataset has 35040 samples with 3 features each.\n",
      "dataset has 35040 samples with 10 features each.\n"
     ]
    }
   ],
   "source": [
    "import os\n",
    "import source_data_helper as sc\n",
    "import pandas as pd\n",
    "import locale\n",
    "from datetime import datetime as dt\n",
    "import visuals as vs\n",
    "import numpy as np\n",
    "\n",
    "#set locale to germany due to comma separation of numbers\n",
    "locale.setlocale(locale.LC_ALL, \"german\")\n",
    "cwd = os.getcwd()\n",
    "source_path = os.path.join(cwd, 'sources', '2015')\n",
    "#test_path = os.path.join(source_path,\"DE_Sekundärregelleistung.csv\")\n",
    "\n",
    "dfs_to_modify = sc.read_multiple_csv(source_path, ['DE_Ausgleichsenergie.csv','DE_Minutenreserve.csv','DE_Primärregelleistung.csv','DE_Prognostizierte Erzeugung.csv','DE_Prognostizierter Stromverbrauch.csv','DE_Realisierte Erzeugung.csv','DE_Realisierter Stromverbrauch.csv','DE_Sekundärregelleistung.csv'])\n",
    "\n",
    "#ausgleich_df = sc.read_csv(test_path)\n",
    "#ausgleich_df = sc.convert_to_hourly(ausgleich_df)"
   ]
  },
  {
   "cell_type": "code",
   "execution_count": 2,
   "metadata": {},
   "outputs": [
    {
     "name": "stdout",
     "output_type": "stream",
     "text": [
      "Modified dataset has 8760 samples with 4 features each.\n",
      "Modified dataset has 8760 samples with 10 features each.\n",
      "Modified dataset has 8760 samples with 4 features each.\n",
      "Modified dataset has 8760 samples with 7 features each.\n",
      "Modified dataset has 8760 samples with 3 features each.\n",
      "Modified dataset has 8760 samples with 14 features each.\n",
      "Modified dataset has 8760 samples with 3 features each.\n",
      "Modified dataset has 8760 samples with 10 features each.\n"
     ]
    }
   ],
   "source": [
    "dfs_modified = sc.convert_multiple_to_hourly(dfs_to_modify)\n",
    "#dfs_modified[1].head(20)"
   ]
  },
  {
   "cell_type": "code",
   "execution_count": 3,
   "metadata": {},
   "outputs": [
    {
     "name": "stdout",
     "output_type": "stream",
     "text": [
      "dataset has 8760 samples with 14 features each.\n",
      "dataset has 8760 samples with 21 features each.\n"
     ]
    }
   ],
   "source": [
    "# DE_Kommerzieller Außenhandel wird nicht betrachtet, da nur der deutsche Markt im Fokus ist\n",
    "dfs_no_modify = sc.read_multiple_csv(source_path, ['DE_Großhandelspreise.csv','DE_Physikalischer Stromfluss.csv'])"
   ]
  },
  {
   "cell_type": "code",
   "execution_count": 4,
   "metadata": {},
   "outputs": [
    {
     "name": "stdout",
     "output_type": "stream",
     "text": [
      "21\n"
     ]
    }
   ],
   "source": [
    "# join new dataframes list with the previous join to get master dataframe\n",
    "dfs_modified.extend(dfs_no_modify)\n",
    "# Merge all dataframes in the list iteratively with keys= Datum, Uhrzeit\n",
    "master_df = sc.join(dfs_modified)\n",
    "# get list of columns with minimum 60% NaNs\n",
    "drop_columns = sc.get_nan_columns(master_df,5)\n",
    "print(len(drop_columns))\n",
    "# drop columns\n",
    "master_df.drop(drop_columns,1,inplace=True)"
   ]
  },
  {
   "cell_type": "code",
   "execution_count": 5,
   "metadata": {},
   "outputs": [],
   "source": [
    "# drop all country data not related to Germany\n",
    "master_df.drop(['DÃ¤nemark 1[Euro/MWh]', 'DÃ¤nemark 2[Euro/MWh]','Frankreich[Euro/MWh]','Italien (Nord)[Euro/MWh]', \n",
    "       'Niederlande[Euro/MWh]', 'Polen[Euro/MWh]', 'Schweden 4[Euro/MWh]',\n",
    "       'Schweiz[Euro/MWh]', 'Slowenien[Euro/MWh]', 'Tschechien[Euro/MWh]',\n",
    "       'Ungarn[Euro/MWh]', 'Niederlande (Export)[MWh]',\n",
    "       'Niederlande (Import)[MWh]', 'Schweiz (Export)[MWh]',\n",
    "       'Schweiz (Import)[MWh]', 'DÃ¤nemark (Export)[MWh]',\n",
    "       'DÃ¤nemark (Import)[MWh]', 'Tschechien (Export)[MWh]',\n",
    "       'Tschechien (Import)[MWh]', 'Schweden (Export)[MWh]',\n",
    "       'Schweden (Import)[MWh]', 'Ã–sterreich (Export)[MWh]',\n",
    "       'Ã–sterreich (Import)[MWh]', 'Frankreich (Export)[MWh]',\n",
    "       'Frankreich (Import)[MWh]', 'Polen (Export)[MWh]',\n",
    "       'Polen (Import)[MWh]', 'Abgerufene Menge (+)[MWh]_x','Abgerufene Menge (-)[MWh]_x','Arbeitspreis (+)[Euro/MWh]_x','Arbeitspreis (-)[Euro/MWh]_x','Vorgehaltene Menge (+)[MW]_x','Vorgehaltene Menge (-)[MW]_x','Abgerufene Menge (+)[MWh]_y','Abgerufene Menge (-)[MWh]_y','Vorgehaltene Menge (+)[MW]_y','Vorgehaltene Menge (-)[MW]_y'], 1, inplace=True, errors='ignore')"
   ]
  },
  {
   "cell_type": "code",
   "execution_count": null,
   "metadata": {},
   "outputs": [],
   "source": [
    "\"\"\"master_df[['Ausgleichsvolumen[MWh]',\n",
    "       'Ausgleichsenergiepreis[Euro/MWh]', 'Abgerufene Menge (+)[MWh]_x',\n",
    "       'Abgerufene Menge (-)[MWh]_x', 'Arbeitspreis (+)[Euro/MWh]_x',\n",
    "       'Arbeitspreis (-)[Euro/MWh]_x', 'Vorgehaltene Menge (+)[MW]_x',\n",
    "       'Vorgehaltene Menge (-)[MW]_x', 'Leistungspreis (+)[Euro/MW]_x',\n",
    "       'Leistungspreis (-)[Euro/MW]_x', 'Vorgehaltene Menge[MW]',\n",
    "       'Leistungspreis[Euro/MW]', 'Gesamt[MWh]_x', 'Wind Offshore[MWh]_x',\n",
    "       'Wind Onshore[MWh]_x', 'Photovoltaik[MWh]_x', 'Sonstige[MWh]',\n",
    "       'Gesamt[MWh]_y', 'Biomasse[MWh]', 'Wasserkraft[MWh]',\n",
    "       'Wind Offshore[MWh]_y', 'Wind Onshore[MWh]_y',\n",
    "       'Photovoltaik[MWh]_y', 'Sonstige Erneuerbare[MWh]',\n",
    "       'Kernenergie[MWh]', 'Braunkohle[MWh]', 'Steinkohle[MWh]',\n",
    "       'Erdgas[MWh]', 'Pumpspeicher[MWh]', 'Sonstige Konventionelle[MWh]',\n",
    "       'Gesamt[MWh]', 'Abgerufene Menge (+)[MWh]_y',\n",
    "       'Abgerufene Menge (-)[MWh]_y', 'Arbeitspreis (+)[Euro/MWh]_y',\n",
    "       'Arbeitspreis (-)[Euro/MWh]_y', 'Vorgehaltene Menge (+)[MW]_y',\n",
    "       'Vorgehaltene Menge (-)[MW]_y', 'Leistungspreis (+)[Euro/MW]_y',\n",
    "       'Leistungspreis (-)[Euro/MW]_y',\n",
    "       'Deutschland/Ã–sterreich/Luxemburg[Euro/MWh]']].apply(pd.to_numeric, errors='ignore')\"\"\""
   ]
  },
  {
   "cell_type": "code",
   "execution_count": null,
   "metadata": {},
   "outputs": [],
   "source": [
    "#master_df['date_time'] = dt.now()\n",
    "#display(master_df.columns.values)\n",
    "#master_df = sc.create_date_time(master_df)"
   ]
  },
  {
   "cell_type": "code",
   "execution_count": 6,
   "metadata": {},
   "outputs": [
    {
     "data": {
      "text/html": [
       "<div>\n",
       "<style scoped>\n",
       "    .dataframe tbody tr th:only-of-type {\n",
       "        vertical-align: middle;\n",
       "    }\n",
       "\n",
       "    .dataframe tbody tr th {\n",
       "        vertical-align: top;\n",
       "    }\n",
       "\n",
       "    .dataframe thead th {\n",
       "        text-align: right;\n",
       "    }\n",
       "</style>\n",
       "<table border=\"1\" class=\"dataframe\">\n",
       "  <thead>\n",
       "    <tr style=\"text-align: right;\">\n",
       "      <th></th>\n",
       "      <th>Ausgleichsvolumen[MWh]</th>\n",
       "      <th>Ausgleichsenergiepreis[Euro/MWh]</th>\n",
       "      <th>Vorgehaltene Menge[MW]</th>\n",
       "      <th>Wind Offshore[MWh]_x</th>\n",
       "      <th>Wind Onshore[MWh]_x</th>\n",
       "      <th>Photovoltaik[MWh]_x</th>\n",
       "      <th>Gesamt[MWh]_y</th>\n",
       "      <th>Biomasse[MWh]</th>\n",
       "      <th>Wasserkraft[MWh]</th>\n",
       "      <th>Wind Offshore[MWh]_y</th>\n",
       "      <th>...</th>\n",
       "      <th>Sonstige Erneuerbare[MWh]</th>\n",
       "      <th>Kernenergie[MWh]</th>\n",
       "      <th>Braunkohle[MWh]</th>\n",
       "      <th>Steinkohle[MWh]</th>\n",
       "      <th>Erdgas[MWh]</th>\n",
       "      <th>Pumpspeicher[MWh]</th>\n",
       "      <th>Gesamt[MWh]</th>\n",
       "      <th>Arbeitspreis (+)[Euro/MWh]_y</th>\n",
       "      <th>Arbeitspreis (-)[Euro/MWh]_y</th>\n",
       "      <th>Deutschland/Ã–sterreich/Luxemburg[Euro/MWh]</th>\n",
       "    </tr>\n",
       "  </thead>\n",
       "  <tbody>\n",
       "    <tr>\n",
       "      <th>count</th>\n",
       "      <td>9782.000000</td>\n",
       "      <td>9782.000000</td>\n",
       "      <td>9782.000000</td>\n",
       "      <td>9758.000000</td>\n",
       "      <td>9782.000000</td>\n",
       "      <td>9782.000000</td>\n",
       "      <td>9734.000000</td>\n",
       "      <td>9669.000000</td>\n",
       "      <td>9719.000000</td>\n",
       "      <td>9782.000000</td>\n",
       "      <td>...</td>\n",
       "      <td>9660.000000</td>\n",
       "      <td>9758.000000</td>\n",
       "      <td>9638.000000</td>\n",
       "      <td>9708.000000</td>\n",
       "      <td>9726.000000</td>\n",
       "      <td>9753.000000</td>\n",
       "      <td>9782.000000</td>\n",
       "      <td>9782.000000</td>\n",
       "      <td>9782.000000</td>\n",
       "      <td>9662.000000</td>\n",
       "    </tr>\n",
       "    <tr>\n",
       "      <th>mean</th>\n",
       "      <td>142.987528</td>\n",
       "      <td>35.235901</td>\n",
       "      <td>578.049070</td>\n",
       "      <td>271.918810</td>\n",
       "      <td>2031.148001</td>\n",
       "      <td>910.980219</td>\n",
       "      <td>13153.759991</td>\n",
       "      <td>992.741907</td>\n",
       "      <td>384.157089</td>\n",
       "      <td>246.618969</td>\n",
       "      <td>...</td>\n",
       "      <td>17.050751</td>\n",
       "      <td>2433.589004</td>\n",
       "      <td>3844.956033</td>\n",
       "      <td>2269.637078</td>\n",
       "      <td>273.387672</td>\n",
       "      <td>143.242592</td>\n",
       "      <td>13218.155745</td>\n",
       "      <td>57.478541</td>\n",
       "      <td>1.151634</td>\n",
       "      <td>31.106734</td>\n",
       "    </tr>\n",
       "    <tr>\n",
       "      <th>std</th>\n",
       "      <td>454.238639</td>\n",
       "      <td>195.627099</td>\n",
       "      <td>0.492915</td>\n",
       "      <td>199.392326</td>\n",
       "      <td>1649.084080</td>\n",
       "      <td>1500.925113</td>\n",
       "      <td>2592.786658</td>\n",
       "      <td>56.333226</td>\n",
       "      <td>84.058809</td>\n",
       "      <td>194.716318</td>\n",
       "      <td>...</td>\n",
       "      <td>4.917667</td>\n",
       "      <td>319.768934</td>\n",
       "      <td>592.996599</td>\n",
       "      <td>1284.457935</td>\n",
       "      <td>235.330375</td>\n",
       "      <td>202.577548</td>\n",
       "      <td>2678.214758</td>\n",
       "      <td>12.046317</td>\n",
       "      <td>23.325256</td>\n",
       "      <td>11.984064</td>\n",
       "    </tr>\n",
       "    <tr>\n",
       "      <th>min</th>\n",
       "      <td>-3210.000000</td>\n",
       "      <td>-5997.420000</td>\n",
       "      <td>578.000000</td>\n",
       "      <td>1.000000</td>\n",
       "      <td>110.500000</td>\n",
       "      <td>0.000000</td>\n",
       "      <td>7253.500000</td>\n",
       "      <td>660.500000</td>\n",
       "      <td>202.250000</td>\n",
       "      <td>0.250000</td>\n",
       "      <td>...</td>\n",
       "      <td>6.500000</td>\n",
       "      <td>1136.500000</td>\n",
       "      <td>1332.500000</td>\n",
       "      <td>103.750000</td>\n",
       "      <td>7.250000</td>\n",
       "      <td>0.000000</td>\n",
       "      <td>7918.000000</td>\n",
       "      <td>0.000000</td>\n",
       "      <td>-476.920000</td>\n",
       "      <td>-79.940000</td>\n",
       "    </tr>\n",
       "    <tr>\n",
       "      <th>25%</th>\n",
       "      <td>-97.000000</td>\n",
       "      <td>0.850000</td>\n",
       "      <td>578.000000</td>\n",
       "      <td>98.062500</td>\n",
       "      <td>838.500000</td>\n",
       "      <td>0.000000</td>\n",
       "      <td>10917.875000</td>\n",
       "      <td>963.000000</td>\n",
       "      <td>318.250000</td>\n",
       "      <td>80.562500</td>\n",
       "      <td>...</td>\n",
       "      <td>12.250000</td>\n",
       "      <td>2270.250000</td>\n",
       "      <td>3487.500000</td>\n",
       "      <td>984.500000</td>\n",
       "      <td>132.250000</td>\n",
       "      <td>0.000000</td>\n",
       "      <td>10915.187500</td>\n",
       "      <td>51.050000</td>\n",
       "      <td>0.192500</td>\n",
       "      <td>25.020000</td>\n",
       "    </tr>\n",
       "    <tr>\n",
       "      <th>50%</th>\n",
       "      <td>129.000000</td>\n",
       "      <td>48.210000</td>\n",
       "      <td>578.000000</td>\n",
       "      <td>210.750000</td>\n",
       "      <td>1695.250000</td>\n",
       "      <td>0.250000</td>\n",
       "      <td>13010.625000</td>\n",
       "      <td>992.000000</td>\n",
       "      <td>367.250000</td>\n",
       "      <td>192.750000</td>\n",
       "      <td>...</td>\n",
       "      <td>14.750000</td>\n",
       "      <td>2511.875000</td>\n",
       "      <td>4023.250000</td>\n",
       "      <td>2279.750000</td>\n",
       "      <td>208.250000</td>\n",
       "      <td>41.250000</td>\n",
       "      <td>12969.750000</td>\n",
       "      <td>56.015000</td>\n",
       "      <td>5.390000</td>\n",
       "      <td>29.445000</td>\n",
       "    </tr>\n",
       "    <tr>\n",
       "      <th>75%</th>\n",
       "      <td>407.000000</td>\n",
       "      <td>66.207500</td>\n",
       "      <td>578.000000</td>\n",
       "      <td>450.500000</td>\n",
       "      <td>2620.250000</td>\n",
       "      <td>1337.437500</td>\n",
       "      <td>15546.875000</td>\n",
       "      <td>1003.500000</td>\n",
       "      <td>442.750000</td>\n",
       "      <td>387.937500</td>\n",
       "      <td>...</td>\n",
       "      <td>23.000000</td>\n",
       "      <td>2661.937500</td>\n",
       "      <td>4259.687500</td>\n",
       "      <td>3382.250000</td>\n",
       "      <td>293.500000</td>\n",
       "      <td>222.500000</td>\n",
       "      <td>15696.187500</td>\n",
       "      <td>61.010000</td>\n",
       "      <td>9.670000</td>\n",
       "      <td>38.480000</td>\n",
       "    </tr>\n",
       "    <tr>\n",
       "      <th>max</th>\n",
       "      <td>3271.000000</td>\n",
       "      <td>5824.630000</td>\n",
       "      <td>583.000000</td>\n",
       "      <td>739.500000</td>\n",
       "      <td>8994.000000</td>\n",
       "      <td>6467.500000</td>\n",
       "      <td>17935.500000</td>\n",
       "      <td>1189.750000</td>\n",
       "      <td>722.750000</td>\n",
       "      <td>737.250000</td>\n",
       "      <td>...</td>\n",
       "      <td>25.000000</td>\n",
       "      <td>2868.500000</td>\n",
       "      <td>4793.500000</td>\n",
       "      <td>4920.000000</td>\n",
       "      <td>2100.250000</td>\n",
       "      <td>1324.250000</td>\n",
       "      <td>18975.250000</td>\n",
       "      <td>364.300000</td>\n",
       "      <td>24.800000</td>\n",
       "      <td>99.770000</td>\n",
       "    </tr>\n",
       "  </tbody>\n",
       "</table>\n",
       "<p>8 rows × 22 columns</p>\n",
       "</div>"
      ],
      "text/plain": [
       "       Ausgleichsvolumen[MWh]  Ausgleichsenergiepreis[Euro/MWh]  \\\n",
       "count             9782.000000                       9782.000000   \n",
       "mean               142.987528                         35.235901   \n",
       "std                454.238639                        195.627099   \n",
       "min              -3210.000000                      -5997.420000   \n",
       "25%                -97.000000                          0.850000   \n",
       "50%                129.000000                         48.210000   \n",
       "75%                407.000000                         66.207500   \n",
       "max               3271.000000                       5824.630000   \n",
       "\n",
       "       Vorgehaltene Menge[MW]  Wind Offshore[MWh]_x  Wind Onshore[MWh]_x  \\\n",
       "count             9782.000000           9758.000000          9782.000000   \n",
       "mean               578.049070            271.918810          2031.148001   \n",
       "std                  0.492915            199.392326          1649.084080   \n",
       "min                578.000000              1.000000           110.500000   \n",
       "25%                578.000000             98.062500           838.500000   \n",
       "50%                578.000000            210.750000          1695.250000   \n",
       "75%                578.000000            450.500000          2620.250000   \n",
       "max                583.000000            739.500000          8994.000000   \n",
       "\n",
       "       Photovoltaik[MWh]_x  Gesamt[MWh]_y  Biomasse[MWh]  Wasserkraft[MWh]  \\\n",
       "count          9782.000000    9734.000000    9669.000000       9719.000000   \n",
       "mean            910.980219   13153.759991     992.741907        384.157089   \n",
       "std            1500.925113    2592.786658      56.333226         84.058809   \n",
       "min               0.000000    7253.500000     660.500000        202.250000   \n",
       "25%               0.000000   10917.875000     963.000000        318.250000   \n",
       "50%               0.250000   13010.625000     992.000000        367.250000   \n",
       "75%            1337.437500   15546.875000    1003.500000        442.750000   \n",
       "max            6467.500000   17935.500000    1189.750000        722.750000   \n",
       "\n",
       "       Wind Offshore[MWh]_y                     ...                       \\\n",
       "count           9782.000000                     ...                        \n",
       "mean             246.618969                     ...                        \n",
       "std              194.716318                     ...                        \n",
       "min                0.250000                     ...                        \n",
       "25%               80.562500                     ...                        \n",
       "50%              192.750000                     ...                        \n",
       "75%              387.937500                     ...                        \n",
       "max              737.250000                     ...                        \n",
       "\n",
       "       Sonstige Erneuerbare[MWh]  Kernenergie[MWh]  Braunkohle[MWh]  \\\n",
       "count                9660.000000       9758.000000      9638.000000   \n",
       "mean                   17.050751       2433.589004      3844.956033   \n",
       "std                     4.917667        319.768934       592.996599   \n",
       "min                     6.500000       1136.500000      1332.500000   \n",
       "25%                    12.250000       2270.250000      3487.500000   \n",
       "50%                    14.750000       2511.875000      4023.250000   \n",
       "75%                    23.000000       2661.937500      4259.687500   \n",
       "max                    25.000000       2868.500000      4793.500000   \n",
       "\n",
       "       Steinkohle[MWh]  Erdgas[MWh]  Pumpspeicher[MWh]   Gesamt[MWh]  \\\n",
       "count      9708.000000  9726.000000        9753.000000   9782.000000   \n",
       "mean       2269.637078   273.387672         143.242592  13218.155745   \n",
       "std        1284.457935   235.330375         202.577548   2678.214758   \n",
       "min         103.750000     7.250000           0.000000   7918.000000   \n",
       "25%         984.500000   132.250000           0.000000  10915.187500   \n",
       "50%        2279.750000   208.250000          41.250000  12969.750000   \n",
       "75%        3382.250000   293.500000         222.500000  15696.187500   \n",
       "max        4920.000000  2100.250000        1324.250000  18975.250000   \n",
       "\n",
       "       Arbeitspreis (+)[Euro/MWh]_y  Arbeitspreis (-)[Euro/MWh]_y  \\\n",
       "count                   9782.000000                   9782.000000   \n",
       "mean                      57.478541                      1.151634   \n",
       "std                       12.046317                     23.325256   \n",
       "min                        0.000000                   -476.920000   \n",
       "25%                       51.050000                      0.192500   \n",
       "50%                       56.015000                      5.390000   \n",
       "75%                       61.010000                      9.670000   \n",
       "max                      364.300000                     24.800000   \n",
       "\n",
       "       Deutschland/Ã–sterreich/Luxemburg[Euro/MWh]  \n",
       "count                                  9662.000000  \n",
       "mean                                     31.106734  \n",
       "std                                      11.984064  \n",
       "min                                     -79.940000  \n",
       "25%                                      25.020000  \n",
       "50%                                      29.445000  \n",
       "75%                                      38.480000  \n",
       "max                                      99.770000  \n",
       "\n",
       "[8 rows x 22 columns]"
      ]
     },
     "metadata": {},
     "output_type": "display_data"
    }
   ],
   "source": [
    "display(master_df.describe())"
   ]
  },
  {
   "cell_type": "code",
   "execution_count": 7,
   "metadata": {},
   "outputs": [],
   "source": [
    "master_df.dropna(how='any', inplace=True)\n",
    "#master_df.reset_index(inplace=True)"
   ]
  },
  {
   "cell_type": "code",
   "execution_count": 8,
   "metadata": {},
   "outputs": [],
   "source": [
    "master_df.shape[0]\n",
    "master_df.to_csv('out.csv')"
   ]
  },
  {
   "cell_type": "markdown",
   "metadata": {},
   "source": [
    "### Feature Scaling"
   ]
  },
  {
   "cell_type": "code",
   "execution_count": 21,
   "metadata": {},
   "outputs": [],
   "source": [
    "from sklearn.model_selection import train_test_split\n",
    "from sklearn.tree import DecisionTreeRegressor\n",
    "from sklearn.linear_model import HuberRegressor\n",
    "from sklearn import preprocessing\n",
    "from sklearn.preprocessing import RobustScaler\n",
    "\n",
    "y = master_df['Deutschland/Ã–sterreich/Luxemburg[Euro/MWh]']\n",
    "# Remove features Date and Time as this cannot be processed by logarithmic functions\n",
    "X = master_df.drop(['Deutschland/Ã–sterreich/Luxemburg[Euro/MWh]','Datum', 'Uhrzeit','date_time'], axis = 1, errors='ignore')\n",
    "\n",
    "scaler = preprocessing.RobustScaler()\n",
    "# Perform feature scaling on X\n",
    "X_scaled = scaler.fit_transform(X)\n",
    "# create scaled version of master_df (remove Date and Time)\n",
    "scaled_data = master_df.drop(['Datum', 'Uhrzeit','date_time'], axis = 1, errors='ignore')\n",
    "scaled_data = scaler.fit_transform(scaled_data)\n",
    "# TODO: Split the data into training and testing sets(0.25) using the given feature as the target\n",
    "# Set a random state.\n",
    "X_train, X_test, y_train, y_test = train_test_split(X_scaled,y , test_size=0.25, random_state=35)\n"
   ]
  },
  {
   "cell_type": "code",
   "execution_count": 10,
   "metadata": {},
   "outputs": [
    {
     "data": {
      "text/plain": [
       "0.806841364426182"
      ]
     },
     "execution_count": 10,
     "metadata": {},
     "output_type": "execute_result"
    }
   ],
   "source": [
    "#display(master_df.describe())\n",
    "#display(master_df.columns.values)\n",
    "\n",
    "# TODO: Create a decision tree regressor and fit it to the training set\n",
    "#regressor = DecisionTreeRegressor(random_state=35)\n",
    "regressor = DecisionTreeRegressor(random_state=15, max_depth=6)\n",
    "regressor.fit(X_train,y_train)\n",
    "\n",
    "# TODO: Report the score of the prediction using the testing set\n",
    "score = regressor.score(X_test,y_test)\n",
    "score"
   ]
  },
  {
   "cell_type": "markdown",
   "metadata": {},
   "source": [
    "### Implementation of a performance metric"
   ]
  },
  {
   "cell_type": "code",
   "execution_count": 11,
   "metadata": {},
   "outputs": [],
   "source": [
    "# TODO: Import 'r2_score'\n",
    "from sklearn.metrics import r2_score\n",
    "\n",
    "def performance_metric(y_true, y_predict):\n",
    "    \"\"\" Calculates and returns the performance score between \n",
    "        true and predicted values based on the metric chosen. \"\"\"\n",
    "    \n",
    "    # TODO: Calculate the performance score between 'y_true' and 'y_predict'\n",
    "    score = r2_score(y_true, y_predict)\n",
    "    \n",
    "    # Return the score\n",
    "    return score"
   ]
  },
  {
   "cell_type": "markdown",
   "metadata": {},
   "source": [
    "### Learning Curves"
   ]
  },
  {
   "cell_type": "code",
   "execution_count": 12,
   "metadata": {},
   "outputs": [
    {
     "data": {
      "image/png": "[encoded data removed]",
      "text/plain": [
       "<matplotlib.figure.Figure at 0x1535db5a7b8>"
      ]
     },
     "metadata": {},
     "output_type": "display_data"
    }
   ],
   "source": [
    "# Produce learning curves for varying training set sizes and maximum depths\n",
    "vs.ModelLearning(X_scaled, y)"
   ]
  },
  {
   "cell_type": "code",
   "execution_count": 13,
   "metadata": {},
   "outputs": [
    {
     "data": {
      "image/png": "[encoded data removed]",
      "text/plain": [
       "<matplotlib.figure.Figure at 0x1535db6ce48>"
      ]
     },
     "metadata": {},
     "output_type": "display_data"
    }
   ],
   "source": [
    "vs.ModelComplexity(X_scaled, y)"
   ]
  },
  {
   "cell_type": "code",
   "execution_count": null,
   "metadata": {},
   "outputs": [],
   "source": [
    "# TODO: Import 'make_scorer', 'DecisionTreeRegressor', and 'GridSearchCV'\n",
    "\"\"\"from sklearn.metrics import make_scorer\n",
    "from sklearn.tree import DecisionTreeRegressor\n",
    "from sklearn.model_selection import GridSearchCV\n",
    "from sklearn.model_selection import ShuffleSplit\n",
    "\n",
    "def fit_model(X, y):\n",
    "     Performs grid search over the 'max_depth' parameter for a \n",
    "        decision tree regressor trained on the input data [X, y]. \n",
    "    \n",
    "    # Create cross-validation sets from the training data\n",
    "    cv_sets = ShuffleSplit(X.shape[0], test_size = 0.20, random_state = 0)\n",
    "    \n",
    "    # TODO: Create a decision tree regressor object\n",
    "    regressor = DecisionTreeRegressor(random_state=0)\n",
    "\n",
    "    # TODO: Create a dictionary for the parameter 'max_depth' with a range from 1 to 10\n",
    "    params = {'max_depth': [8, 10]}\n",
    "\n",
    "    # TODO: Transform 'performance_metric' into a scoring function using 'make_scorer' \n",
    "    #scoring_fnc = make_scorer(r2_score)\n",
    "    scoring_fnc = make_scorer(performance_metric)\n",
    "\n",
    "    # TODO: Create the grid search cv object --> GridSearchCV()\n",
    "    # Make sure to include the right parameters in the object:\n",
    "    # (estimator, param_grid, scoring, cv) which have values 'regressor', 'params', 'scoring_fnc', and 'cv_sets' respectively.\n",
    "    grid = GridSearchCV(estimator = regressor, param_grid = params, scoring = scoring_fnc, cv = cv_sets)\n",
    "\n",
    "    # Fit the grid search object to the data to compute the optimal model\n",
    "    grid.fit(X, y)\n",
    "\n",
    "    # Return the optimal model after fitting the data\n",
    "    return grid.best_estimator_  \"\"\""
   ]
  },
  {
   "cell_type": "code",
   "execution_count": 58,
   "metadata": {},
   "outputs": [
    {
     "name": "stdout",
     "output_type": "stream",
     "text": [
      "[[0]]\n"
     ]
    }
   ],
   "source": [
    "# Fit the training data to the model using grid search\n",
    "\"\"\"reg = fit_model(X_train, y_train)\n",
    "\n",
    "# Produce the value for 'max_depth'\n",
    "print(\"Parameter 'max_depth' is {} for the optimal model.\".format(reg.get_params()['max_depth']))\"\"\"\n",
    "\n",
    "a = np.array([3,4,5,6,7,8,9,10,11,12,13,14,15])\n",
    "b = np.array([7, 4, 13, 9])\n",
    "c = np.argwhere(set(b).issubset(a))"
   ]
  },
  {
   "cell_type": "code",
   "execution_count": 68,
   "metadata": {},
   "outputs": [
    {
     "name": "stdout",
     "output_type": "stream",
     "text": [
      "Data points considered outliers for the feature '[ 0.15991903  0.81781377  0.0465587  ... -0.41093117 -1.25303644\n",
      " -0.87651822]':\n"
     ]
    },
    {
     "data": {
      "text/plain": [
       "array([-2.48380567, -2.01417004,  2.22267206, -1.94939271, -1.97165992])"
      ]
     },
     "metadata": {},
     "output_type": "display_data"
    },
    {
     "name": "stdout",
     "output_type": "stream",
     "text": [
      "Data points considered outliers for the feature '[-0.03816199  0.48707165  0.45607477 ... -1.35451713 -0.94953271\n",
      " -0.94345794]':\n"
     ]
    },
    {
     "data": {
      "text/plain": [
       "array([-3.22741433, -5.94922118, -5.08380062, -2.80732087,  2.85747664])"
      ]
     },
     "metadata": {},
     "output_type": "display_data"
    },
    {
     "name": "stdout",
     "output_type": "stream",
     "text": [
      "Data points considered outliers for the feature '[0. 0. 0. ... 5. 5. 5.]':\n"
     ]
    },
    {
     "data": {
      "text/plain": [
       "array([5., 5., 5., 5., 5.])"
      ]
     },
     "metadata": {},
     "output_type": "display_data"
    },
    {
     "name": "stdout",
     "output_type": "stream",
     "text": [
      "Data points considered outliers for the feature '[-0.46975089 -0.46476868 -0.45551601 ...  0.78647687  0.79430605\n",
      "  0.82704626]':\n"
     ]
    },
    {
     "data": {
      "text/plain": [
       "array([], dtype=float64)"
      ]
     },
     "metadata": {},
     "output_type": "display_data"
    },
    {
     "name": "stdout",
     "output_type": "stream",
     "text": [
      "Data points considered outliers for the feature '[-0.6733683  -0.6863345  -0.7016317  ...  0.16958042  0.14408508\n",
      "  0.11130536]':\n"
     ]
    },
    {
     "data": {
      "text/plain": [
       "array([2.01544289, 2.10198135, 2.26762821, 2.50626457, 2.71853147])"
      ]
     },
     "metadata": {},
     "output_type": "display_data"
    },
    {
     "name": "stdout",
     "output_type": "stream",
     "text": [
      "Data points considered outliers for the feature '[-0.00018498 -0.00018498 -0.00018498 ... -0.00018498 -0.00018498\n",
      " -0.00018498]':\n"
     ]
    },
    {
     "data": {
      "text/plain": [
       "array([2.65963744, 2.63152053, 2.73788383, 2.93322235, 2.76045135])"
      ]
     },
     "metadata": {},
     "output_type": "display_data"
    },
    {
     "name": "stdout",
     "output_type": "stream",
     "text": [
      "Data points considered outliers for the feature '[-0.2600868  -0.39505974 -0.49295397 ... -0.41290253 -0.42527997\n",
      " -0.58061405]':\n"
     ]
    },
    {
     "data": {
      "text/plain": [
       "array([], dtype=float64)"
      ]
     },
     "metadata": {},
     "output_type": "display_data"
    },
    {
     "name": "stdout",
     "output_type": "stream",
     "text": [
      "Data points considered outliers for the feature '[ 0.16969697 -0.41212121  0.20606061 ...  4.61212121  4.61212121\n",
      "  4.57575758]':\n"
     ]
    },
    {
     "data": {
      "text/plain": [
       "array([-2.22424242, -2.41212121, -6.70909091, -2.98787879, -3.02424242])"
      ]
     },
     "metadata": {},
     "output_type": "display_data"
    },
    {
     "name": "stdout",
     "output_type": "stream",
     "text": [
      "Data points considered outliers for the feature '[ 0.15686275  0.2372549   0.18823529 ... -0.91960784 -0.89411765\n",
      " -0.76862745]':\n"
     ]
    },
    {
     "data": {
      "text/plain": [
       "array([2.71960784, 2.71176471, 2.65294118, 2.71764706, 2.59803922])"
      ]
     },
     "metadata": {},
     "output_type": "display_data"
    },
    {
     "name": "stdout",
     "output_type": "stream",
     "text": [
      "Data points considered outliers for the feature '[-0.50081566 -0.50815661 -0.52120718 ...  0.70554649  0.90375204\n",
      "  1.21533442]':\n"
     ]
    },
    {
     "data": {
      "text/plain": [
       "array([], dtype=float64)"
      ]
     },
     "metadata": {},
     "output_type": "display_data"
    },
    {
     "name": "stdout",
     "output_type": "stream",
     "text": [
      "Data points considered outliers for the feature '[-0.66637168 -0.72168142 -0.76106195 ... -0.07418879 -0.08923304\n",
      " -0.12536873]':\n"
     ]
    },
    {
     "data": {
      "text/plain": [
       "array([2.11327434, 2.28613569, 2.36106195, 2.4259587 , 2.39100295])"
      ]
     },
     "metadata": {},
     "output_type": "display_data"
    },
    {
     "name": "stdout",
     "output_type": "stream",
     "text": [
      "Data points considered outliers for the feature '[0. 0. 0. ... 0. 0. 0.]':\n"
     ]
    },
    {
     "data": {
      "text/plain": [
       "array([2.58672215, 2.59390959, 2.89521468, 3.32078684, 3.33043314])"
      ]
     },
     "metadata": {},
     "output_type": "display_data"
    },
    {
     "name": "stdout",
     "output_type": "stream",
     "text": [
      "Data points considered outliers for the feature '[-0.02325581 -0.02325581 -0.02325581 ...  0.76744186  0.76744186\n",
      "  0.76744186]':\n"
     ]
    },
    {
     "data": {
      "text/plain": [
       "array([], dtype=float64)"
      ]
     },
     "metadata": {},
     "output_type": "display_data"
    },
    {
     "name": "stdout",
     "output_type": "stream",
     "text": [
      "Data points considered outliers for the feature '[0.871877   0.87572069 0.87379885 ... 0.26201153 0.37027546 0.42280589]':\n"
     ]
    },
    {
     "data": {
      "text/plain": [
       "array([-3.54067905, -2.256246  , -2.27482383, -2.48110186, -2.24855862])"
      ]
     },
     "metadata": {},
     "output_type": "display_data"
    },
    {
     "name": "stdout",
     "output_type": "stream",
     "text": [
      "Data points considered outliers for the feature '[ 0.55030935  0.58156952  0.59003582 ... -0.44448063 -0.44610876\n",
      " -0.43633995]':\n"
     ]
    },
    {
     "data": {
      "text/plain": [
       "array([-2.20807555, -2.43731683, -2.69586454, -2.689352  , -2.91957017])"
      ]
     },
     "metadata": {},
     "output_type": "display_data"
    },
    {
     "name": "stdout",
     "output_type": "stream",
     "text": [
      "Data points considered outliers for the feature '[ 0.04498449 -0.04715615 -0.0262668  ... -0.29524302 -0.32233713\n",
      " -0.39389866]':\n"
     ]
    },
    {
     "data": {
      "text/plain": [
       "array([], dtype=float64)"
      ]
     },
     "metadata": {},
     "output_type": "display_data"
    },
    {
     "name": "stdout",
     "output_type": "stream",
     "text": [
      "Data points considered outliers for the feature '[-0.34128167 -0.36065574 -0.36363636 ...  0.64083458  0.56035768\n",
      "  0.52011923]':\n"
     ]
    },
    {
     "data": {
      "text/plain": [
       "array([2.07302534, 3.19076006, 3.16989568, 2.30253353, 2.51564829])"
      ]
     },
     "metadata": {},
     "output_type": "display_data"
    },
    {
     "name": "stdout",
     "output_type": "stream",
     "text": [
      "Data points considered outliers for the feature '[-0.17553794 -0.07021518 -0.17553794 ...  0.00566251 -0.01812005\n",
      "  0.3590034 ]':\n"
     ]
    },
    {
     "data": {
      "text/plain": [
       "array([2.40883352, 2.49490374, 2.85277463, 2.52208381, 2.54926387])"
      ]
     },
     "metadata": {},
     "output_type": "display_data"
    },
    {
     "name": "stdout",
     "output_type": "stream",
     "text": [
      "Data points considered outliers for the feature '[-0.20968244 -0.35076795 -0.42714819 ... -0.36975924 -0.38039643\n",
      " -0.46362599]':\n"
     ]
    },
    {
     "data": {
      "text/plain": [
       "array([], dtype=float64)"
      ]
     },
     "metadata": {},
     "output_type": "display_data"
    },
    {
     "name": "stdout",
     "output_type": "stream",
     "text": [
      "Data points considered outliers for the feature '[ 1.36707566  2.10429448  1.44785276 ... -0.44274029 -0.47239264\n",
      " -0.4591002 ]':\n"
     ]
    },
    {
     "data": {
      "text/plain": [
       "array([2.10429448, 2.11554192, 2.25766871, 3.32208589, 3.17689162])"
      ]
     },
     "metadata": {},
     "output_type": "display_data"
    },
    {
     "name": "stdout",
     "output_type": "stream",
     "text": [
      "Data points considered outliers for the feature '[ 0.17275748  0.23145072  0.24031008 ... -2.94130676 -3.73089701\n",
      " -3.3820598 ]':\n"
     ]
    },
    {
     "data": {
      "text/plain": [
       "array([-2.56035437, -2.08637874, -2.11406423, -2.7585825 , -2.88815061])"
      ]
     },
     "metadata": {},
     "output_type": "display_data"
    },
    {
     "name": "stdout",
     "output_type": "stream",
     "text": [
      "Data points considered outliers for the feature '[ 0.03862974  0.0787172   0.05539359 ... -0.23469388  0.03644315\n",
      "  0.15306122]':\n"
     ]
    },
    {
     "data": {
      "text/plain": [
       "array([-2.14577259, -2.29956268, -2.44897959, -2.51822157, -2.44970845])"
      ]
     },
     "metadata": {},
     "output_type": "display_data"
    },
    {
     "name": "stdout",
     "output_type": "stream",
     "text": [
      "[36, 36, 108, 108, 108, 108, 108, 142, 142, 142, 142, 142, 142, 142, 164, 164, 164, 164, 239, 239, 283, 283, 283, 417, 417, 462, 462, 510, 510, 510, 512, 512, 512, 523, 523, 523, 523, 525, 525, 525, 525, 525, 534, 564, 617, 617, 647, 647, 647, 647, 763, 763, 763, 765, 766, 767, 768, 769, 770, 860, 911, 952, 952, 981, 982, 982, 1051, 1052, 1053, 1053, 1053, 1057, 1057, 1074, 1074, 1120, 1120, 1120, 1126, 1126, 1126, 1127, 1127, 1127, 1128, 1170, 1170, 1171, 1171, 1171, 1175, 1175, 1197, 1197, 1197, 1197, 1197, 1203, 1211, 1219, 1219, 1243, 1243, 1243, 1243, 1243, 1251, 1252, 1252, 1252, 1258, 1276, 1276, 1290, 1290, 1366, 1372, 1372, 1372, 1372, 1393, 1393, 1393, 1412, 1412, 1412, 1412, 1412, 1412, 1412, 1413, 1413, 1413, 1413, 1414, 1414, 1414, 1414, 1415, 1415, 1415, 1415, 1415, 1416, 1416, 1416, 1416, 1416, 1416, 1424, 1424, 1443, 1443, 1443, 1443, 1533, 1533, 1674, 1674, 1674, 1706, 1706, 1706, 1724, 1724, 1737, 1737, 1737, 1737, 1737, 1738, 1738, 1738, 1743, 1743, 1743, 1746, 1746, 1751, 1751, 1751, 1752, 1752, 1774, 1774, 1774, 1774, 1774, 1780, 1780, 1780, 1780, 1780, 1780, 1781, 1781, 1781, 1781, 1840, 1840, 1841, 1841, 1841, 1841, 1842, 1842, 1842, 1842, 1891, 1891, 1891, 1891, 1892, 1892, 1892, 1892, 1893, 1893, 1893, 1893, 1894, 1894, 1894, 1894, 1895, 1895, 1895, 1908, 1908, 1908, 1909, 1909, 1909, 1909, 1911, 1911, 1911, 1911, 1911, 1911, 1912, 1912, 1913, 1913, 1913, 1913, 1914, 1914, 1914, 1921, 1921, 1921, 1921, 1922, 1922, 1924, 1924, 1924, 1924, 1928, 1928, 1928, 1928, 1928, 1928, 1928, 1935, 1935, 1935, 1935, 1935, 1941, 1941, 1941, 1941, 1941, 1941, 1941, 1942, 1942, 1942, 1942, 1942, 1942, 1942, 1944, 1944, 1944, 1944, 1944, 1946, 1946, 1946, 1946, 1946, 1947, 1947, 1947, 1947, 1950, 1950, 1950, 1950, 1950, 1951, 1951, 1952, 1952, 1952, 1955, 1955, 1955, 1955, 1966, 1966, 1966, 1966, 1967, 1967, 1967, 1981, 1981, 1981, 1981, 1981, 1990, 1990, 1990, 1990, 1990, 1990, 1990, 1991, 1991, 1991, 1991, 1996, 1996, 1996, 1996, 1996, 2008, 2008, 2008, 2009, 2009, 2009, 2009, 2018, 2018, 2018, 2018, 2034, 2034, 2034, 2058, 2058, 2082, 2082, 2082, 2082, 2082, 2082, 2083, 2083, 2083, 2083, 2083, 2083, 2086, 2086, 2086, 2086, 2086, 2086, 2087, 2087, 2087, 2087, 2088, 2088, 2088, 2088, 2088, 2089, 2089, 2089, 2090, 2090, 2090, 2138, 2138, 2157, 2157, 2157, 2158, 2158, 2158, 2158, 2158, 2158, 2176, 2176, 2176, 2176, 2177, 2177, 2177, 2178, 2217, 2219, 2219, 2219, 2220, 2220, 2220, 2220, 2232, 2232, 2232, 2232, 2242, 2242, 2242, 2242, 2242, 2242, 2247, 2247, 2247, 2247, 2247, 2247, 2247, 2248, 2248, 2248, 2248, 2248, 2248, 2251, 2251, 2251, 2252, 2252, 2252, 2254, 2254, 2256, 2256, 2256, 2256, 2256, 2256, 2256, 2256, 2257, 2257, 2257, 2257, 2257, 2259, 2259, 2259, 2259, 2259, 2259, 2259, 2291, 2291, 2291, 2325, 2325, 2325, 2363, 2363, 2363, 2370, 2370, 2387, 2387, 2387, 2387, 2387, 2390, 2390, 2390, 2390, 2390, 2391, 2391, 2391, 2392, 2392, 2392, 2393, 2393, 2394, 2394, 2410, 2410, 2410, 2410, 2410, 2416, 2416, 2416, 2416, 2416, 2416, 2456, 2456, 2456, 2636, 2636, 2636, 2689, 2689, 2727, 2727, 2727, 2727, 2728, 2728, 2728, 2729, 2729, 2732, 2732, 2732, 2732, 2732, 2733, 2733, 2733, 2734, 2736, 2736, 2736, 2739, 2739, 2740, 2741, 2741, 2741, 2742, 2751, 2751, 2751, 2751, 2751, 2775, 2778, 2778, 2778, 2778, 2785, 2785, 2785, 2825, 2825, 2826, 2832, 2832, 2849, 2849, 2849, 2849, 2849, 2850, 2850, 2850, 2850, 2850, 2850, 2851, 2851, 2851, 2851, 2851, 2851, 2852, 2852, 2852, 2852, 2852, 2852, 2853, 2853, 2853, 2853, 2853, 2853, 2853, 2854, 2854, 2854, 2854, 2854, 2854, 2855, 2855, 2855, 2855, 2855, 2856, 2856, 2856, 2856, 2857, 2918, 2923, 2923, 2923, 2926, 2926, 2926, 2926, 2952, 2952, 2952, 2972, 2972, 2972, 2999, 3018, 3018, 3018, 3018, 3018, 3019, 3019, 3019, 3019, 3019, 3046, 3046, 3046, 3046, 3046, 3064, 3064, 3064, 3089, 3089, 3089, 3089, 3235, 3235, 3236, 3236, 3258, 3258, 3258, 3349, 3349, 3411, 3413, 3413, 3413, 3413, 3425, 3425, 3425, 3471, 3471, 3472, 3472, 3472, 3472, 3472, 3476, 3476, 3476, 3482, 3482, 3486, 3486, 3548, 3548, 3548, 3642, 3642, 3642, 3739, 3739, 3739, 3859, 3884, 3887, 3888, 3889, 3889, 3892, 3927, 3927, 3927, 3929, 3929, 3932, 3932, 3932, 3932, 4049, 4049, 4082, 4083, 4083, 4083, 4084, 4084, 4084, 4094, 4094, 4095, 4095, 4095, 4107, 4107, 4107, 4107, 4108, 4108, 4108, 4108, 4118, 4118, 4120, 4120, 4120, 4120, 4132, 4132, 4132, 4143, 4143, 4143, 4144, 4144, 4144, 4144, 4144, 4145, 4145, 4145, 4145, 4145, 4145, 4184, 4184, 4184, 4185, 4185, 4185, 4185, 4186, 4186, 4186, 4191, 4191, 4191, 4200, 4200, 4203, 4203, 4203, 4208, 4208, 4208, 4208, 4209, 4209, 4209, 4209, 4209, 4209, 4210, 4210, 4210, 4210, 4213, 4213, 4213, 4213, 4249, 4269, 4269, 4269, 4269, 4269, 4269, 4269, 4269, 4294, 4294, 4294, 4294, 4294, 4294, 4294, 4435, 4435, 4435, 4445, 4445, 4445, 4512, 4512, 4512, 4565, 4565, 4565, 4565, 4589, 4589, 4589, 4589, 4600, 4600, 4600, 4600, 4600, 4601, 4601, 4601, 4601, 4601, 4601, 4601, 4601, 4601, 4700, 4700, 4700, 4700, 4700, 4700, 4700, 4729, 4729, 4749, 4749, 4749, 4749, 4749, 4749, 4749, 4789, 4789, 4795, 4795, 4795, 4795, 4797, 4797, 4797, 4797, 4800, 4800, 4800, 4800, 4849, 4849, 4914, 4914, 4914, 4914, 4914, 4955, 4955, 4955, 4955, 4955, 4998, 4998, 4998, 5088, 5088, 5088, 5313, 5313, 5313, 5313, 5314, 5314, 5314, 5332, 5332, 5464, 5464, 5488, 5499, 5499, 5499, 5502, 5502, 5502, 5510, 5510, 5510, 5512, 5527, 5527, 5527, 5528, 5651, 5651, 5651, 5651, 5651, 5793, 5793, 5793, 5794, 5794, 5794, 5794, 5859, 5859, 5862, 5865, 5889, 5893, 5893, 5894, 5986, 5986, 5986, 6017, 6017, 6179, 6179, 6439, 6439, 6439, 6483, 6483, 6483, 6483, 6485, 6485, 6485, 6485, 6486, 6486, 6486, 6487, 6487, 6494, 6494, 6494, 6494, 6509, 6509, 6509, 6509, 6512, 6512, 6512, 6518, 6518, 6518, 6518, 7804, 7804, 7804, 7876, 7876, 7876, 7876, 7876, 7900, 7900, 7900, 7900, 7900, 7900, 7940, 8060, 8060, 8060, 8060, 8123, 8123, 8123, 8123, 8123, 8132, 8154, 8154, 8154, 8154, 8155, 8155, 8155, 8279, 8279, 8279, 8279, 8313, 8357, 8357, 8357, 8375, 8375, 8375, 8375, 8375, 8375, 8375, 8399, 8399, 8399, 8399, 8399, 8399, 8616, 8616, 8621, 8621, 8621, 8621, 8643, 8643, 8643, 8643, 8646, 8646, 8646, 8646, 8646, 8650, 8650, 8650, 8650, 8650, 8650, 8708, 8708, 8708, 8708, 8772, 8772, 8772, 8772, 8772, 8772, 8790, 8790, 8790, 8790, 8790, 8790, 8790, 8790, 8790, 8790, 8790, 8790, 8790, 8876, 8876, 8892, 8892, 8892, 8892, 9065, 9065, 9065, 9199, 9199, 9199, 9199, 9199, 9210, 9210, 9210, 9237, 9237, 9237, 9237, 9260, 9260, 9260, 9267, 9267, 9267, 9267, 9267, 9267, 9267, 9277, 9277, 9277, 9277, 9277, 9281, 9281, 9281, 9281, 9281, 9281, 9319, 9319, 9319, 9320, 9320, 9344, 9344, 9344, 6, 24, 54, 67, 70, 70, 71, 71, 71, 71, 71, 78, 78, 78, 90, 90, 90, 131, 131, 131, 131, 131, 145, 145, 145, 145, 145, 159, 159, 159, 169, 194, 194, 194, 207, 213, 220, 273, 279, 279, 296, 299, 308, 308, 308, 308, 308, 309, 309, 309, 319, 325, 343, 377, 377, 377, 377, 389, 389, 389, 401, 402, 418, 425, 471, 524, 524, 524, 536, 726, 752, 752, 752, 869, 882, 882, 969, 972, 975, 1015, 1028, 1069, 1077, 1078, 1121, 1121, 1121, 1122, 1122, 1215, 1220, 1255, 1257, 1261, 1266, 1266, 1266, 1293, 1293, 1293, 1383, 1384, 1409, 1425, 1426, 1427, 1427, 1448, 1449, 1462, 1462, 1477, 1477, 1495, 1498, 1508, 1508, 1508, 1508, 1512, 1527, 1543, 1543, 1552, 1562, 1608, 1609, 1610, 1610, 1610, 1616, 1627, 1627, 1627, 1629, 1629, 1629, 1633, 1634, 1640, 1650, 1653, 1653, 1653, 1653, 1656, 1656, 1656, 1656, 1657, 1657, 1658, 1658, 1676, 1676, 1676, 1682, 1699, 1699, 1700, 1700, 1700, 1700, 1700, 1703, 1703, 1703, 1703, 1707, 1758, 1768, 1771, 1771, 1771, 1772, 1772, 1772, 1772, 1772, 1773, 1773, 1773, 1804, 1804, 1804, 1804, 1804, 1806, 1806, 1817, 1818, 1818, 1818, 1820, 1820, 1820, 1825, 1827, 1827, 1866, 1866, 1872, 1874, 1905, 1915, 1915, 1915, 1920, 1920, 1920, 1925, 1925, 1934, 1934, 1934, 1934, 1943, 1943, 1943, 1943, 1949, 1949, 1956, 1956, 1956, 1958, 1958, 1958, 1958, 1964, 1964, 1964, 1964, 1968, 1968, 1968, 1969, 1969, 1969, 1974, 1974, 1974, 1974, 1975, 1975, 1975, 1975, 1975, 1978, 1978, 1978, 1978, 1984, 1984, 1984, 2007, 2007, 2012, 2014, 2014, 2022, 2022, 2027, 2027, 2037, 2037, 2037, 2037, 2039, 2039, 2039, 2039, 2039, 2046, 2141, 2182, 2182, 2205, 2205, 2218, 2218, 2221, 2221, 2221, 2244, 2244, 2244, 2244, 2268, 2268, 2268, 2278, 2307, 2318, 2318, 2318, 2326, 2328, 2330, 2333, 2333, 2333, 2334, 2334, 2352, 2355, 2357, 2358, 2359, 2359, 2372, 2372, 2373, 2373, 2373, 2389, 2389, 2389, 2398, 2400, 2409, 2412, 2412, 2412, 2412, 2414, 2414, 2414, 2415, 2415, 2415, 2417, 2417, 2418, 2420, 2421, 2423, 2431, 2470, 2492, 2492, 2494, 2494, 2499, 2501, 2501, 2549, 2552, 2552, 2552, 2555, 2555, 2562, 2571, 2571, 2580, 2580, 2582, 2582, 2626, 2629, 2629, 2631, 2631, 2637, 2642, 2644, 2653, 2653, 2656, 2658, 2658, 2658, 2663, 2663, 2667, 2667, 2671, 2671, 2673, 2673, 2677, 2677, 2681, 2705, 2717, 2717, 2718, 2718, 2725, 2725, 2725, 2747, 2747, 2747, 2747, 2749, 2749, 2765, 2765, 2765, 2771, 2771, 2771, 2771, 2773, 2773, 2774, 2774, 2795, 2795, 2796, 2796, 2796, 2799, 2803, 2803, 2803, 2819, 2823, 2830, 2830, 2830, 2831, 2831, 2833, 2848, 2848, 2848, 2858, 2862, 2862, 2863, 2863, 2868, 2868, 2869, 2869, 2873, 2873, 2885, 2885, 2885, 2885, 2893, 2893, 2894, 2894, 2896, 2921, 2921, 2921, 2921, 2929, 2930, 2932, 2932, 2947, 2947, 2947, 2949, 2949, 2949, 2949, 2950, 2950, 2950, 2950, 2960, 2960, 2962, 2962, 2963, 2963, 2966, 2966, 2979, 2979, 2989, 2989, 2990, 2990, 2993, 2993, 2993, 2993, 3008, 3008, 3008, 3015, 3015, 3020, 3020, 3020, 3020, 3020, 3025, 3029, 3034, 3034, 3034, 3042, 3042, 3042, 3048, 3061, 3061, 3085, 3085, 3092, 3130, 3139, 3139, 3139, 3139, 3148, 3148, 3153, 3153, 3168, 3195, 3195, 3227, 3227, 3227, 3255, 3255, 3255, 3279, 3288, 3301, 3301, 3347, 3347, 3347, 3350, 3350, 3361, 3381, 3381, 3381, 3383, 3399, 3399, 3403, 3403, 3403, 3403, 3403, 3418, 3418, 3418, 3431, 3431, 3431, 3431, 3434, 3500, 3500, 3500, 3535, 3538, 3579, 3579, 3588, 3588, 3588, 3588, 3589, 3611, 3632, 3632, 3666, 3666, 3666, 3666, 3667, 3667, 3667, 3682, 3694, 3694, 3694, 3694, 3695, 3695, 3695, 3698, 3725, 3725, 3732, 3733, 3734, 3751, 3766, 3766, 3766, 3822, 3831, 3851, 3877, 3882, 3903, 3912, 3919, 3928, 3931, 3955, 3955, 3955, 4005, 4005, 4032, 4059, 4093, 4093, 4109, 4109, 4109, 4122, 4122, 4122, 4130, 4130, 4133, 4139, 4146, 4146, 4146, 4151, 4151, 4151, 4151, 4151, 4153, 4153, 4153, 4168, 4168, 4168, 4207, 4211, 4211, 4211, 4211, 4211, 4212, 4212, 4212, 4212, 4214, 4214, 4214, 4215, 4215, 4227, 4227, 4227, 4227, 4227, 4227, 4227, 4229, 4229, 4229, 4229, 4230, 4230, 4230, 4230, 4230, 4230, 4230, 4230, 4236, 4236, 4236, 4236, 4236, 4236, 4236, 4236, 4236, 4236, 4236, 4247, 4247, 4247, 4250, 4254, 4254, 4255, 4255, 4255, 4257, 4257, 4257, 4257, 4261, 4261, 4261, 4262, 4262, 4262, 4266, 4266, 4268, 4268, 4268, 4268, 4268, 4268, 4268, 4268, 4270, 4270, 4270, 4270, 4270, 4270, 4271, 4271, 4271, 4271, 4271, 4271, 4272, 4272, 4272, 4272, 4276, 4276, 4276, 4277, 4277, 4277, 4278, 4278, 4278, 4278, 4278, 4278, 4278, 4278, 4278, 4286, 4286, 4289, 4303, 4303, 4309, 4309, 4325, 4325, 4330, 4330, 4330, 4339, 4339, 4339, 4343, 4343, 4343, 4343, 4345, 4345, 4345, 4351, 4360, 4368, 4368, 4370, 4370, 4370, 4370, 4371, 4371, 4371, 4371, 4371, 4374, 4406, 4406, 4465, 4465, 4485, 4485, 4485, 4485, 4581, 4581, 4581, 4581, 4581, 4582, 4582, 4582, 4582, 4582, 4602, 4602, 4602, 4602, 4602, 4602, 4633, 4650, 4650, 4650, 4675, 4675, 4675, 4683, 4683, 4683, 4687, 4687, 4687, 4687, 4723, 4725, 4725, 4725, 4746, 4762, 4768, 4769, 4770, 4773, 4773, 4778, 4792, 4792, 4792, 4808, 4854, 4854, 4868, 4868, 4876, 4887, 4887, 4887, 4890, 4960, 5025, 5025, 5025, 5032, 5032, 5032, 5032, 5041, 5041, 5041, 5062, 5062, 5062, 5083, 5083, 5089, 5089, 5094, 5150, 5159, 5162, 5176, 5178, 5204, 5204, 5204, 5204, 5208, 5229, 5238, 5280, 5296, 5309, 5319, 5329, 5329, 5384, 5384, 5384, 5386, 5386, 5386, 5387, 5387, 5479, 5479, 5479, 5511, 5600, 5600, 5600, 5603, 5641, 5641, 5641, 5641, 5641, 5642, 5642, 5642, 5642, 5645, 5645, 5645, 5645, 5645, 5662, 5664, 5666, 5683, 5705, 5705, 5705, 5706, 5707, 5707, 5707, 5720, 5720, 5720, 5729, 5736, 5754, 5760, 5777, 5820, 5824, 5830, 5832, 5841, 5847, 5852, 5857, 5861, 5863, 5864, 5866, 5882, 5882, 5887, 5895, 5897, 5906, 5912, 5912, 5912, 5930, 5932, 5933, 5936, 5936, 5936, 5939, 5941, 5950, 5953, 5954, 5966, 5998, 6063, 6063, 6160, 6168, 6181, 6183, 6183, 6200, 6200, 6200, 6250, 6250, 6250, 6254, 6254, 6306, 6316, 6316, 6337, 6399, 6399, 6399, 6399, 6415, 6457, 6474, 6546, 6546, 6553, 6553, 6597, 6602, 6607, 6649, 6649, 6661, 6661, 6661, 6661, 6679, 6679, 6679, 6679, 6681, 6681, 6681, 6687, 6687, 7810, 7828, 7828, 7828, 7828, 7846, 7860, 7864, 7889, 7889, 7892, 7907, 7912, 7912, 7924, 7924, 7935, 7936, 7936, 7948, 7977, 8001, 8089, 8092, 8146, 8156, 8159, 8159, 8159, 8160, 8160, 8160, 8161, 8161, 8161, 8161, 8164, 8164, 8180, 8180, 8180, 8180, 8180, 8182, 8182, 8182, 8182, 8183, 8183, 8183, 8184, 8184, 8184, 8188, 8188, 8188, 8193, 8203, 8205, 8206, 8209, 8223, 8223, 8223, 8230, 8230, 8233, 8233, 8241, 8242, 8246, 8247, 8251, 8254, 8265, 8265, 8302, 8302, 8302, 8309, 8311, 8311, 8323, 8323, 8323, 8328, 8328, 8338, 8338, 8342, 8342, 8353, 8353, 8355, 8355, 8355, 8355, 8364, 8364, 8364, 8371, 8371, 8371, 8371, 8371, 8377, 8377, 8377, 8377, 8377, 8377, 8382, 8382, 8382, 8403, 8403, 8403, 8405, 8405, 8438, 8463, 8463, 8468, 8471, 8471, 8484, 8497, 8497, 8503, 8509, 8510, 8510, 8521, 8521, 8545, 8545, 8545, 8545, 8546, 8546, 8552, 8552, 8558, 8558, 8558, 8558, 8570, 8570, 8570, 8570, 8580, 8582, 8582, 8582, 8588, 8652, 8652, 8652, 8652, 8671, 8671, 8671, 8671, 8699, 8699, 8700, 8700, 8709, 8709, 8709, 8709, 8718, 8718, 8718, 8718, 8718, 8718, 8718, 8736, 8736, 8736, 8736, 8736, 8736, 8736, 8736, 8736, 8736, 8736, 8736, 8736, 8748, 8748, 8748, 8748, 8762, 8762, 8762, 8762, 8762, 8762, 8767, 8767, 8767, 8767, 8767, 8767, 8767, 8767, 8767, 8767, 8802, 8802, 8802, 8802, 8802, 8802, 8802, 8802, 8802, 8802, 8802, 8802, 8802, 8823, 8823, 8823, 8835, 8835, 8839, 8866, 8866, 8868, 8868, 8905, 8905, 8905, 8905, 8933, 8933, 8933, 8933, 8933, 8953, 8953, 8953, 8963, 8963, 8963, 8963, 8970, 8994, 8994, 8994, 9007, 9007, 9056, 9056, 9056, 9157, 9157, 9157, 9157, 9158, 9158, 9158, 9167, 9167, 9167, 9183, 9183, 9183, 9211, 9211, 9220, 9244, 9244, 9247, 9247, 9247, 9254, 9254, 9261, 9263, 9263, 9264, 9264, 9264, 9269, 9269, 9269, 9269, 9269, 9269, 9282, 9282, 9282, 9282, 9287, 9287, 9310, 9310, 9314, 9314, 9343, 9343, 9371, 9391, 9391, 9405, 9405, 9313, 9313, 9313, 9313, 9313, 9313, 9313, 9313, 9313, 9313, 9313, 9313, 9313, 9313, 9313, 9313, 9313, 9313, 9313, 9313, 9313, 9313, 9313, 9313, 9313, 9313, 9313, 9313, 9313, 9313, 9313, 9313, 9313, 9313, 9313, 9313, 9313, 9313, 9313, 9313, 9313, 9313, 9313, 9313, 9313, 9313, 9313, 9313, 9313, 9313, 9313, 9313, 9313, 9313, 9313, 9313, 9313, 9313, 9313, 9313, 9313, 9313, 9313, 9313, 9313, 9313, 9313, 9313, 9313, 9313, 9313, 9313, 9313, 9313, 9313, 9313, 9313, 9313, 9313, 9313, 9313, 9313, 9313, 9313, 9313, 9313, 9313, 9313, 9313, 9313, 9313, 9313, 9313, 9313, 9313, 9313, 9313, 74, 74, 75, 75, 76, 76, 76, 77, 77, 79, 79, 79, 79, 80, 80, 81, 81, 82, 82, 82, 83, 83, 83, 84, 84, 84, 85, 85, 86, 86, 87, 87, 88, 88, 89, 89, 91, 91, 91, 92, 92, 93, 93, 94, 94, 95, 95, 96, 101, 101, 101, 102, 102, 102, 103, 103, 103, 103, 104, 104, 104, 105, 105, 105, 105, 105, 106, 106, 106, 106, 107, 107, 107, 109, 109, 109, 110, 110, 110, 111, 111, 111, 112, 112, 112, 113, 113, 113, 113, 114, 114, 114, 114, 115, 115, 116, 116, 116, 117, 117, 117, 118, 118, 118, 118, 118, 119, 119, 119, 120, 120, 120, 120, 120, 120, 121, 121, 121, 121, 121, 122, 122, 122, 122, 124, 124, 124, 124, 125, 125, 125, 125, 126, 126, 126, 126, 126, 127, 127, 127, 127, 128, 128, 128, 128, 128, 129, 129, 129, 129, 130, 130, 130, 132, 132, 132, 133, 133, 133, 133, 133, 133, 133, 133, 133, 133, 133, 134, 134, 134, 134, 134, 135, 135, 135, 135, 136, 136, 136, 136, 137, 137, 137, 138, 138, 138, 139, 139, 139, 139, 139, 139, 140, 140, 140, 141, 141, 141, 143, 143, 143, 143, 143, 144, 144, 144, 146, 146, 146, 146, 146, 146, 147, 147, 147, 147, 148, 148, 148, 148, 149, 149, 150, 150, 150, 151, 151, 152, 152, 154, 154, 156, 156, 156, 157, 157, 158, 158, 160, 160, 161, 161, 162, 162, 163, 163, 163, 165, 165, 165, 166, 166, 167, 167, 167, 184, 184, 184, 185, 185, 186, 186, 187, 187, 188, 188, 188, 189, 189, 190, 190, 191, 191, 191, 192, 192, 193, 195, 195, 195, 196, 196, 196, 197, 197, 198, 198, 199, 199, 200, 200, 200, 201, 201, 202, 202, 502, 502, 503, 503, 504, 504, 505, 505, 506, 506, 507, 507, 508, 508, 509, 509, 509, 511, 511, 511, 513, 513, 514, 514, 515, 515, 515, 516, 516, 516, 517, 517, 518, 519, 519, 520, 520, 521, 521, 522, 522, 526, 526, 527, 750, 750, 751, 751, 753, 753, 753, 754, 754, 754, 754, 755, 755, 755, 755, 756, 756, 756, 756, 757, 757, 757, 757, 1117, 1117, 1118, 1118, 1119, 1119, 1237, 1237, 1238, 1238, 1238, 1239, 1239, 1239, 1240, 1240, 1240, 1241, 1241, 1241, 1242, 1242, 1244, 1244, 1245, 1245, 1246, 1246, 1264, 1264, 1264, 1265, 1265, 1267, 1267, 1268, 1268, 1268, 1269, 1269, 1270, 1270, 1271, 1271, 1272, 1272, 1281, 1281, 1282, 1282, 1282, 1283, 1283, 1284, 1284, 1285, 1285, 1285, 1926, 1926, 1927, 1927, 1927, 1929, 1929, 1929, 1930, 1930, 1930, 1930, 1931, 1931, 1931, 1931, 1931, 1932, 1932, 1932, 1932, 1933, 1933, 1933, 1936, 1936, 1936, 1937, 1937, 1937, 1938, 1938, 1938, 1939, 1939, 1939, 1940, 1940, 1940, 1940, 1945, 1945, 1954, 1957, 1957, 1959, 1959, 1959, 1961, 1961, 1962, 1962, 1963, 1963, 1965, 1965, 1970, 1970, 1970, 1971, 1971, 1971, 1972, 1972, 1972, 1973, 1973, 1976, 1976, 1976, 1977, 1977, 1979, 1979, 1979, 1980, 1980, 1982, 1982, 1982, 1983, 1983, 1983, 1985, 1985, 1986, 1986, 1987, 1987, 1988, 1988, 1989, 1989, 1992, 1992, 1994, 1994, 1995, 1995, 1997, 1997, 1997, 1998, 1998, 1999, 2000, 2258, 2258, 2258, 2258, 2258, 2260, 2260, 2260, 2260, 2260, 3404, 3404, 3404, 3404, 3405, 3405, 3405, 3405, 3405, 3406, 3406, 3406, 3406, 3407, 3407, 3407, 3407, 3407, 3408, 3408, 3408, 3408, 3409, 3409, 3414, 3414, 4267, 4267, 4267, 4267, 4273, 4273, 4290, 4290, 4290, 4291, 4291, 4291, 4291, 4292, 4292, 4292, 4292, 4293, 4293, 4293, 4293, 4295, 4295, 4296, 4296, 4297, 4297, 4298, 4298, 4679, 4679, 4679, 4679, 4679, 4679, 4680, 4680, 4680, 4680, 4680, 4681, 4681, 4682, 4682, 4682, 4682, 4682, 4685, 4685, 4685, 4686, 4686, 4688, 4688, 4688, 4688, 4689, 4689, 4689, 4689, 4689, 4690, 4690, 4690, 4690, 4690, 4690, 4691, 4691, 4691, 4691, 4747, 4747, 4748, 4748, 4748, 4748, 4750, 4750, 5359, 5359, 5360, 5360, 5360, 5361, 5361, 5361, 5361, 5637, 5637, 5638, 5638, 5639, 5639, 5639, 5640, 5640, 5640, 5643, 5643, 5643, 5643, 5646, 5646, 5646, 5646, 5648, 5648, 5648, 5648, 5649, 5649, 5649, 5649, 5650, 5650, 5650, 5650, 5652, 5652, 8119, 8119, 8120, 8120, 8121, 8121, 8122, 8122, 8122, 8122, 8124, 8124, 8124, 8124, 8125, 8125, 8125, 8125, 8126, 8126, 8150, 8157, 8157, 8158, 8158, 8162, 8162, 8163, 8163, 8165, 8165, 8166, 8167, 8167, 8168, 8168, 8168, 8169, 8169, 8170, 8170, 8171, 8171, 8172, 8172, 8173, 8173, 8173, 8174, 8174, 8174, 8175, 8175, 8176, 8176, 8177, 8177, 8177, 8177, 8178, 8178, 8178, 8178, 8179, 8179, 8179, 8179, 8181, 8181, 8185, 8185, 8186, 8187, 8187, 8255, 8256, 8256, 8257, 8257, 8257, 8258, 8258, 8259, 8259, 8260, 8260, 8261, 8261, 8261, 8261, 8262, 8262, 8263, 8263, 8263, 8264, 8264, 8266, 8267, 8267, 8268, 8268, 8268, 8269, 8269, 8269, 8270, 8270, 8271, 8271, 8272, 8272, 8272, 8273, 8273, 8274, 8274, 8275, 8275, 8276, 8276, 8277, 8277, 8277, 8278, 8280, 8281, 8282, 8283, 8284, 8285, 8286, 8291, 8292, 8292, 8293, 8293, 8294, 8294, 8295, 8295, 8296, 8296, 8297, 8297, 8298, 8298, 8299, 8299, 8299, 8300, 8300, 8303, 8303, 8304, 8304, 8304, 8304, 8354, 8354, 8354, 8356, 8356, 8358, 8358, 8358, 8358, 8359, 8359, 8359, 8360, 8360, 8360, 8360, 8361, 8361, 8361, 8361, 8362, 8362, 8363, 8363, 8365, 8365, 8365, 8366, 8366, 8366, 8367, 8367, 8368, 8368, 8368, 8369, 8369, 8369, 8370, 8370, 8370, 8372, 8372, 8372, 8372, 8373, 8373, 8373, 8374, 8374, 8374, 8376, 8376, 8376, 8378, 8378, 8378, 8378, 8379, 8379, 8379, 8380, 8380, 8380, 8381, 8381, 8383, 8383, 8384, 8384, 8384, 8385, 8385, 8385, 8386, 8386, 8387, 8387, 8388, 8388, 8389, 8389, 8390, 8390, 8390, 8391, 8391, 8391, 8392, 8392, 8392, 8392, 8392, 8393, 8393, 8393, 8394, 8394, 8394, 8395, 8395, 8395, 8395, 8396, 8396, 8396, 8397, 8397, 8397, 8398, 8398, 8398, 8398, 8400, 8400, 8400, 8400, 8401, 8401, 8401, 8401, 8402, 8402, 8404, 8404, 8618, 8618, 8619, 8619, 8619, 8620, 8620, 8622, 8622, 8622, 8622, 8623, 8623, 8623, 8623, 8624, 8624, 8624, 8625, 8625, 8625, 8625, 8626, 8626, 8626, 8626, 8626, 8627, 8627, 8627, 8627, 8628, 8628, 8628, 8629, 8629, 8629, 8629, 8630, 8630, 8630, 8631, 8632, 8632, 8632, 8633, 8633, 8633, 8634, 8634, 8636, 8636, 8636, 8637, 8637, 8638, 8638, 8638, 8639, 8639, 8640, 8640, 8641, 8641, 8642, 8642, 8644, 8644, 8644, 8645, 8645, 8645, 8647, 8647, 8647, 8648, 8648, 8648, 8648, 8648, 8649, 8649, 8649, 8649, 8651, 8651, 8653, 8653, 8653, 8653, 8653, 8654, 8654, 8655, 8655, 8655, 8655, 8655, 8656, 8656, 8656, 8657, 8657, 8657, 8658, 8658, 8658, 8659, 8659, 8659, 8660, 8660, 8660, 8667, 8667, 8668, 8668, 8669, 8669, 8672, 8673, 8673, 8674, 8674, 8746, 8746, 8746, 8747, 8747, 8747, 8747, 8749, 8749, 8749, 8750, 8750, 8750, 8750, 8750, 8750, 8750, 8751, 8751, 8751, 8751, 8751, 8752, 8752, 8752, 8752, 8753, 8753, 8753, 8753, 8754, 8754, 8754, 8754, 8754, 8754, 8754, 8768, 8769, 8769, 8769, 8769, 8769, 8769, 8769, 8769, 8769, 8769, 8771, 8771, 8771, 8771, 8771, 8771, 8773, 8773, 8773, 8774, 8774, 8775, 8775, 8775, 8775, 8775, 8775, 8775, 8775, 8775, 8776, 8776, 8776, 8776, 8776, 8776, 8776, 8776, 8776, 8777, 8777, 8777, 8777, 8777, 8777, 8777, 8778, 8778, 8778, 8778, 8778, 8778, 8778, 8778, 8778, 8779, 8779, 8779, 8779, 8779, 8779, 8779, 8779, 8779, 8779, 8780, 8780, 8780, 8780, 8780, 8780, 8780, 8780, 8780, 8780, 8781, 8781, 8781, 8781, 8782, 8782, 8782, 8782, 8782, 8782, 8782, 8782, 8783, 8783, 8783, 8783, 8783, 8783, 8783, 8783, 8783, 8784, 8784, 8784, 8784, 8784, 8784, 8784, 8784, 8785, 8785, 8785, 8785, 8785, 8785, 8785, 8785, 8785, 8786, 8786, 8786, 8786, 8786, 8786, 8786, 8786, 8787, 8787, 8787, 8787, 8787, 8787, 8787, 8787, 8788, 8788, 8789, 8789, 8789, 8789, 8789, 8789, 8789, 8791, 8791, 8791, 8792, 8792, 8792, 8793, 8793, 8793, 8793, 8793, 8793, 8793, 8793, 8793, 8793, 8793, 8793, 8794, 8794, 8794, 8794, 8795, 8795, 8795, 8796, 8796, 8796, 8797, 8797, 8797, 8797, 8797, 8797, 8798, 8798, 8798, 8799, 8799, 8799, 8800, 8800, 8800, 8800, 8800, 8800, 8800, 8800, 8801, 8801, 8801, 8801, 8801, 8801, 8801, 8801, 8801, 8801, 8803, 8803, 8803, 8804, 8804, 8805, 8805, 8805, 8805, 8805, 8805, 8805, 8806, 8806, 8806, 8806, 8806, 8806, 8806, 8806, 8806, 8807, 8807, 8808, 8808, 8808, 8808, 8808, 8808, 8808, 8808, 8808, 8809, 8809, 8809, 8810, 8810, 8922, 8922, 8923, 8923, 8923, 8924, 8924, 8924, 8928, 8929, 8929, 8929, 8929, 8929, 8930, 8930, 8930, 8930, 8931, 8931, 8931, 8931, 8932, 8932, 8932, 8934, 8934, 8934, 8934, 8935, 8935, 8935, 8935, 8935, 8935, 8936, 8936, 8937, 8939, 8940, 8941, 8942, 8942, 8959, 8959, 8959, 8959, 8959, 8959, 8959, 8959, 8960, 8960, 8960, 8960, 8960, 8961, 8961, 8962, 8962, 8962, 8964, 8964, 9159, 9159, 9160, 9160, 9161, 9161, 9162, 9162, 9163, 9163, 9163, 9164, 9164, 9165, 9165, 9165, 9166, 9166, 9168, 9168, 9168, 9169, 9169, 9169, 9169, 9170, 9170, 9170, 9170, 9172, 9172, 9172, 9172, 9172, 9172, 9173, 9173, 9173, 9173, 9174, 9174, 9174, 9174, 9175, 9175, 9175, 9175, 9179, 9181, 9181, 9182, 9182, 9185, 9185, 9186, 9186, 9187, 9187, 9188, 9188, 9188, 9189, 9189, 9190, 9191, 9191, 9191, 9192, 9192, 9192, 9193, 9193, 9194, 9195, 9195, 9195, 9196, 9196, 9196, 9196, 9197, 9197, 9197, 9198, 9198, 9200, 9200, 9200, 9201, 9201, 9202, 9202, 9203, 9203, 9204, 9204, 9205, 9205, 9206, 9206, 9207, 9207, 9207, 9208, 9235, 9235, 9236, 9236, 9236, 9238, 9238, 9238, 9238, 9238, 9239, 9239, 9239, 9239, 9240, 9240, 9240, 9240, 9241, 9241, 9241, 9241, 9242, 9242, 9242, 9242, 9268, 9268, 9268, 9268, 9268, 9268, 9270, 9270, 9270, 9270, 9270, 9271, 9271, 9271, 9271, 9272, 9272, 9272, 9272, 9273, 9273, 9273, 9274, 9274, 9274, 9274, 9275, 9275, 9275, 9275, 9276, 9276, 9276, 9276, 9278, 9278, 9278, 9279, 9279, 9279, 9279, 9283, 9283, 9283, 9283, 9284, 9284, 9284, 9284, 9297, 9298, 9298, 9299, 9299, 9300, 9300, 1198, 1198, 1292, 1292, 1292, 1294, 1294, 1317, 1342, 1388, 1388, 1389, 1389, 1390, 1390, 1390, 1391, 1391, 1411, 1411, 1436, 1436, 1436, 1436, 1437, 1437, 1438, 1438, 1439, 1439, 1461, 1461, 1484, 1484, 1485, 1485, 1485, 1485, 1486, 1486, 1487, 1487, 1488, 1488, 1509, 1509, 1510, 1510, 1510, 1510, 1511, 1511, 1534, 1604, 1604, 1604, 1604, 1604, 1605, 1605, 1606, 1606, 1607, 1607, 1628, 1628, 1630, 1630, 1631, 1631, 1651, 1651, 1652, 1652, 1652, 1654, 1654, 1655, 1655, 1655, 1675, 1675, 1677, 1677, 1678, 1678, 1679, 1679, 1680, 1680, 1701, 1701, 1701, 1702, 1702, 1704, 1704, 1749, 1750, 1775, 1775, 1776, 1776, 1796, 1796, 1796, 1796, 1797, 1797, 1797, 1797, 1798, 1798, 1819, 1819, 1821, 1821, 1822, 1822, 2035, 2035, 2036, 2036, 2036, 2038, 2038, 2061, 2062, 2084, 2084, 2084, 2085, 2085, 2085, 2108, 2108, 2109, 2109, 2110, 2110, 2110, 2111, 2111, 2130, 2130, 2131, 2131, 2132, 2132, 2132, 2133, 2133, 2134, 2134, 2135, 2135, 2136, 2136, 2156, 2156, 2159, 2159, 2174, 2174, 2175, 2175, 2175, 2194, 2194, 2194, 2195, 2195, 2196, 2196, 2197, 2197, 2197, 2198, 2198, 2199, 2199, 2200, 2200, 2222, 2222, 2222, 2243, 2243, 2243, 2245, 2245, 2245, 2245, 2246, 2246, 2246, 2246, 2246, 2267, 2267, 2269, 2269, 2270, 2270, 2270, 2271, 2271, 2272, 2272, 2292, 2292, 2293, 2293, 2294, 2294, 2294, 2295, 2295, 2296, 2296, 2314, 2314, 2315, 2315, 2316, 2316, 2317, 2317, 2319, 2319, 2320, 2320, 2320, 2338, 2338, 2339, 2339, 2340, 2340, 2341, 2341, 2341, 2342, 2342, 2343, 2343, 2344, 2364, 2364, 2365, 2365, 2366, 2386, 2386, 2388, 2388, 2411, 2411, 2413, 2413, 2434, 2434, 2435, 2435, 2436, 2436, 2437, 2437, 2438, 2438, 2439, 2439, 2440, 2440, 2458, 2458, 2459, 2459, 2460, 2460, 2461, 2461, 2462, 2462, 2463, 2463, 2464, 2464, 2465, 2465, 2465, 2482, 2482, 2483, 2483, 2484, 2484, 2485, 2485, 2486, 2486, 2488, 2488, 2506, 2506, 2507, 2507, 2508, 2508, 2509, 2509, 2510, 2510, 2510, 2511, 2511, 2511, 2512, 2512, 2530, 2530, 2531, 2531, 2532, 2532, 2533, 2533, 2534, 2534, 2535, 2535, 2540, 2540, 2585, 2585, 2586, 2586, 2586, 2587, 2587, 2588, 2588, 2589, 2589, 2590, 2590, 2590, 2591, 2591, 2610, 2610, 2611, 2611, 2612, 2612, 2613, 2613, 2614, 2614, 2659, 2659, 2660, 2660, 2661, 2662, 2662, 2708, 2708, 2708, 2709, 2709, 2709, 2710, 2710, 2731, 2731, 2755, 2755, 2755, 2755, 2755, 2756, 2756, 2757, 2757, 2758, 2758, 2777, 2777, 2779, 2779, 2780, 2780, 2781, 2781, 2781, 2782, 2782, 2783, 2783, 2783, 2801, 2801, 2802, 2802, 2804, 2804, 2805, 2805, 2806, 2806, 2807, 2807, 2828, 2828, 2828, 2829, 2829, 2829, 2829, 2829, 2874, 2874, 2875, 2875, 2876, 2876, 2877, 2877, 2878, 2878, 2879, 2879, 2897, 2897, 2898, 2898, 2899, 2899, 2900, 2900, 2900, 2901, 2901, 2902, 2902, 2903, 2903, 2903, 2922, 2922, 2924, 2924, 2924, 2925, 2925, 2927, 2927, 2945, 2945, 2946, 2946, 2946, 2948, 2948, 2948, 2951, 2951, 2970, 2971, 2971, 2973, 2973, 2974, 2974, 2994, 2994, 2995, 2995, 2996, 2996, 2997, 2997, 2998, 3021, 3021, 3021, 3021, 3022, 3022, 3022, 3022, 3023, 3023, 3023, 3023, 3041, 3041, 3043, 3043, 3043, 3044, 3044, 3047, 3047, 3047, 3069, 3069, 3113, 3113, 3114, 3114, 3114, 3115, 3115, 3116, 3116, 3117, 3117, 3118, 3118, 3119, 3137, 3137, 3138, 3138, 3138, 3138, 3140, 3140, 3140, 3141, 3141, 3141, 3142, 3143, 3143, 3143, 3162, 3162, 3163, 3163, 3164, 3164, 3164, 3165, 3165, 3185, 3185, 3185, 3185, 3186, 3186, 3186, 3187, 3187, 3187, 3188, 3188, 3188, 3189, 3189, 3189, 3190, 3190, 3190, 3190, 3190, 3191, 3191, 3191, 3212, 3212, 3212, 3237, 3259, 3260, 3261, 3262, 3281, 3281, 3281, 3281, 3282, 3282, 3282, 3283, 3283, 3284, 3284, 3284, 3285, 3285, 3286, 3286, 3287, 3287, 3306, 3306, 3307, 3307, 3308, 3308, 3309, 3309, 3310, 3310, 3310, 3330, 3331, 3331, 3332, 3332, 3332, 3333, 3333, 3333, 3334, 3334, 3334, 3335, 3353, 3353, 3354, 3354, 3355, 3355, 3355, 3356, 3356, 3356, 3357, 3357, 3357, 3358, 3358, 3358, 3402, 3402, 3402, 3426, 3426, 3427, 3427, 3428, 3428, 3429, 3429, 3430, 3430, 3430, 3448, 3448, 3449, 3449, 3449, 3450, 3450, 3451, 3451, 3452, 3452, 3453, 3453, 3453, 3454, 3454, 3455, 3455, 3456, 3456, 3473, 3473, 3474, 3474, 3475, 3475, 3477, 3477, 3478, 3478, 3480, 3480, 3497, 3498, 3498, 3499, 3499, 3501, 3501, 3502, 3502, 3503, 3503, 3503, 3521, 3522, 3522, 3525, 3525, 3525, 3525, 3526, 3526, 3526, 3527, 3527, 3546, 3546, 3547, 3547, 3550, 3571, 3572, 3573, 3573, 3593, 3593, 3593, 3594, 3595, 3595, 3596, 3596, 3597, 3597, 3598, 3598, 3599, 3617, 3617, 3618, 3618, 3619, 3619, 3620, 3620, 3621, 3621, 3621, 3622, 3622, 3623, 3623, 3624, 3641, 3641, 3643, 3643, 3644, 3644, 3645, 3645, 3646, 3646, 3647, 3647, 3648, 3668, 3668, 3668, 3669, 3669, 3670, 3670, 3671, 3671, 3689, 3689, 3689, 3690, 3690, 3691, 3691, 3691, 3692, 3692, 3692, 3693, 3693, 3715, 3715, 3716, 3716, 3737, 3737, 3737, 3738, 3738, 3741, 3741, 3742, 3742, 3743, 3761, 3761, 3762, 3762, 3763, 3763, 3764, 3764, 3765, 3765, 3767, 3767, 3767, 3812, 3907, 3908, 3908, 3909, 3909, 3910, 3910, 3933, 3933, 3933, 3934, 3934, 3934, 3934, 3935, 3935, 3935, 3935, 3935, 3953, 3953, 3954, 3954, 3956, 3956, 3956, 3957, 3957, 3958, 3958, 3959, 3959, 3977, 3977, 3978, 3978, 3979, 3979, 3980, 3980, 3981, 3981, 3982, 4004, 4025, 4025, 4026, 4026, 4027, 4027, 4028, 4028, 4029, 4029, 4029, 4030, 4030, 4050, 4050, 4051, 4051, 4052, 4052, 4053, 4053, 4054, 4054, 4055, 4055, 4073, 4073, 4074, 4074, 4076, 4076, 4077, 4077, 4078, 4078, 4079, 4079, 4080, 4080, 4097, 4097, 4098, 4099, 4099, 4100, 4100, 4101, 4101, 4102, 4102, 4103, 4103, 4104, 4104, 4121, 4121, 4123, 4123, 4124, 4124, 4125, 4125, 4126, 4126, 4127, 4127, 4128, 4128, 4147, 4147, 4148, 4148, 4149, 4149, 4150, 4150, 4152, 4152, 4152, 4152, 4152, 4152, 4152, 4152, 4152, 4152, 4169, 4169, 4169, 4170, 4170, 4170, 4170, 4170, 4171, 4171, 4171, 4172, 4172, 4172, 4173, 4173, 4173, 4174, 4174, 4174, 4175, 4175, 4175, 4176, 4176, 4176, 4193, 4193, 4193, 4194, 4194, 4194, 4194, 4195, 4195, 4195, 4195, 4196, 4196, 4196, 4197, 4197, 4198, 4198, 4198, 4199, 4199, 4199, 4217, 4217, 4217, 4217, 4218, 4218, 4218, 4218, 4218, 4218, 4218, 4219, 4219, 4219, 4220, 4220, 4220, 4220, 4220, 4220, 4220, 4221, 4221, 4222, 4222, 4222, 4222, 4223, 4223, 4223, 4223, 4223, 4223, 4223, 4223, 4224, 4224, 4224, 4224, 4241, 4241, 4241, 4241, 4241, 4241, 4242, 4242, 4242, 4243, 4243, 4244, 4244, 4245, 4245, 4245, 4245, 4245, 4246, 4246, 4313, 4313, 4313, 4313, 4314, 4314, 4314, 4314, 4315, 4315, 4315, 4316, 4316, 4317, 4317, 4317, 4318, 4318, 4318, 4319, 4319, 4319, 4320, 4320, 4320, 4337, 4337, 4337, 4338, 4338, 4338, 4338, 4340, 4340, 4341, 4341, 4341, 4342, 4342, 4342, 4342, 4344, 4344, 4361, 4361, 4362, 4362, 4362, 4364, 4364, 4364, 4365, 4365, 4366, 4366, 4434, 4434, 4436, 4436, 4436, 4437, 4437, 4438, 4438, 4439, 4439, 4457, 4457, 4457, 4458, 4458, 4459, 4459, 4459, 4460, 4460, 4460, 4460, 4461, 4461, 4461, 4462, 4462, 4462, 4463, 4463, 4464, 4464, 4481, 4481, 4481, 4481, 4483, 4483, 4484, 4484, 4484, 4486, 4486, 4486, 4487, 4487, 4487, 4505, 4505, 4506, 4506, 4506, 4507, 4507, 4507, 4509, 4509, 4509, 4509, 4553, 4553, 4553, 4554, 4554, 4555, 4555, 4555, 4556, 4556, 4557, 4557, 4557, 4558, 4558, 4559, 4578, 4578, 4578, 4579, 4579, 4579, 4580, 4580, 4580, 4580, 4583, 4583, 4583, 4603, 4603, 4603, 4604, 4604, 4604, 4605, 4605, 4606, 4606, 4606, 4607, 4607, 4607, 4607, 4626, 4626, 4626, 4626, 4626, 4627, 4627, 4627, 4627, 4628, 4628, 4629, 4629, 4629, 4629, 4630, 4630, 4630, 4630, 4649, 4649, 4649, 4651, 4651, 4652, 4652, 4653, 4653, 4654, 4654, 4655, 4655, 4655, 4676, 4676, 4676, 4676, 4677, 4677, 4677, 4677, 4677, 4677, 4678, 4678, 4678, 4678, 4697, 4697, 4697, 4697, 4697, 4698, 4698, 4698, 4699, 4699, 4699, 4699, 4701, 4702, 4702, 4702, 4703, 4703, 4751, 4783, 4783, 4784, 4784, 4785, 4785, 4793, 4793, 4794, 4794, 4794, 4796, 4796, 4801, 4801, 4801, 4802, 4802, 4803, 4803, 4822, 4822, 4823, 4823, 4823, 4824, 4824, 4824, 4825, 4825, 4825, 4826, 4826, 4826, 4828, 4828, 4839, 4839, 4840, 4840, 4841, 4841, 4842, 4842, 4843, 4843, 4844, 4844, 4860, 4860, 4880, 4880, 4880, 4880, 4881, 4881, 4882, 4882, 4883, 4883, 4884, 4884, 4886, 4886, 4904, 4904, 4905, 4905, 4906, 4906, 4907, 4907, 4908, 4908, 4909, 4909, 4910, 4910, 4911, 4911, 4928, 4928, 4929, 4929, 4929, 4930, 4930, 4931, 4931, 4932, 4932, 4934, 4934, 4952, 4952, 4952, 4953, 4953, 4954, 4954, 4954, 4956, 4956, 4957, 4957, 4958, 4958, 4958, 4976, 4976, 4977, 4978, 4978, 4979, 4979, 4980, 4981, 4981, 5001, 5001, 5002, 5002, 5004, 5004, 5004, 5006, 5006, 5006, 5006, 5026, 5026, 5027, 5027, 5028, 5028, 5029, 5029, 5030, 5030, 5049, 5049, 5049, 5049, 5049, 5050, 5050, 5051, 5051, 5051, 5052, 5052, 5052, 5053, 5053, 5054, 5072, 5072, 5072, 5073, 5073, 5073, 5074, 5074, 5075, 5075, 5075, 5075, 5076, 5076, 5076, 5076, 5078, 5078, 5078, 5096, 5097, 5097, 5098, 5098, 5099, 5101, 5101, 5102, 5122, 5122, 5123, 5124, 5218, 5220, 5241, 5241, 5242, 5242, 5243, 5243, 5245, 5245, 5264, 5264, 5265, 5265, 5266, 5266, 5267, 5267, 5268, 5268, 5269, 5270, 5270, 5288, 5288, 5289, 5289, 5290, 5291, 5291, 5292, 5292, 5293, 5293, 5294, 5294, 5312, 5312, 5315, 5315, 5316, 5316, 5317, 5317, 5318, 5318, 5339, 5339, 5362, 5362, 5363, 5363, 5364, 5364, 5382, 5382, 5383, 5383, 5385, 5385, 5406, 5406, 5407, 5407, 5408, 5408, 5409, 5409, 5453, 5454, 5454, 5455, 5455, 5457, 5457, 5458, 5458, 5459, 5459, 5478, 5478, 5480, 5480, 5481, 5481, 5482, 5482, 5483, 5483, 5501, 5501, 5503, 5503, 5505, 5505, 5506, 5506, 5507, 5507, 5550, 5550, 5551, 5551, 5552, 5552, 5554, 5575, 5576, 5577, 5598, 5599, 5599, 5601, 5601, 5602, 5602, 5695, 5695, 5696, 5696, 5697, 5697, 5698, 5717, 5718, 5718, 5719, 5719, 5721, 5721, 5723, 5723, 5741, 5742, 5742, 5743, 5743, 5744, 5744, 5745, 5745, 5746, 5746, 5766, 5766, 5767, 5767, 5768, 5768, 5769, 5769, 5770, 5770, 5791, 5791, 5792, 5792, 5935, 5935, 5937, 5959, 5959, 5960, 5960, 5961, 6006, 6007, 6007, 6008, 6008, 6010, 6010, 6079, 6079, 6079, 6080, 6080, 6081, 6081, 6103, 6103, 6104, 6104, 6105, 6105, 6105, 6125, 6126, 6126, 6127, 6127, 6128, 6128, 6129, 6129, 6130, 6130, 6150, 6150, 6151, 6151, 6152, 6152, 6153, 6153, 6154, 6154, 6173, 6173, 6174, 6174, 6175, 6175, 6176, 6176, 6177, 6177, 6178, 6178, 6197, 6197, 6198, 6198, 6199, 6199, 6201, 6201, 6202, 6202, 6203, 6203, 6221, 6221, 6223, 6223, 6224, 6224, 6225, 6225, 6226, 6226, 6227, 6227, 6246, 6246, 6247, 6247, 6248, 6248, 6249, 6249, 6295, 6295, 6296, 6296, 6438, 6438, 6438, 6438, 6441, 6441, 6442, 6442, 6462, 6462, 6463, 6463, 6463, 6464, 6464, 6466, 6466, 6752, 7965, 7965, 7966, 7966, 7967, 7967, 8013, 8013, 8013, 8014, 8014, 979, 2889, 2905, 3415, 3415, 3415, 3416, 3416, 3417, 3417, 3419, 3419, 3420, 3420, 3421, 3421, 3421, 3422, 3422, 3422, 3422, 3423, 3423, 3423, 3424, 3424, 3424, 3424, 3930, 3936, 3937, 4472, 4855, 4862, 4862, 4863, 4873, 5077, 5077, 5077, 5077, 6034, 6034, 6035, 6037, 6038, 6039, 6040, 6041, 6042, 6043, 6044, 6045, 6046, 6048, 6049, 6050, 6051, 6051, 6725, 6725, 6725, 6726, 8142, 8143, 8151, 8694, 8694, 8694, 8694, 8695, 8695, 8695, 8695, 8696, 8696, 8697, 8697, 8698, 8698, 8698, 8698, 8698, 8702, 8702, 8702, 8703, 8703, 8703, 8704, 8704, 8705, 8705, 8707, 8707, 8707, 8707, 8707, 8707, 8710, 8710, 8710, 8710, 8710, 8710, 8710, 8711, 8711, 8711, 8711, 8711, 8711, 8711, 8712, 8712, 8712, 8712, 8712, 8712, 8712, 8712, 8713, 8713, 8713, 8713, 8713, 8713, 8714, 8714, 8714, 8715, 8715, 8715, 8715, 8715, 8715, 8716, 8716, 8716, 8716, 8717, 8717, 8717, 8717, 8717, 8719, 8719, 8719, 8720, 8720, 8720, 8721, 8721, 8723, 8723, 8723, 8724, 8724, 8724, 8725, 8725, 8725, 8725, 8726, 8726, 8726, 8726, 8726, 8726, 8726, 8726, 8726, 8726, 8727, 8727, 8727, 8727, 8728, 8728, 8728, 8729, 8729, 8731, 8731, 8732, 8732, 8732, 8734, 8734, 8734, 8734, 8734, 8734, 8734, 8734, 8734, 8734, 8737, 8737, 8737, 8737, 8737, 8737, 8737, 8737, 8737, 8738, 8738, 8738, 8738, 8738, 8739, 8739, 8739, 8740, 8740, 8740, 8740, 8740, 8740, 8740, 8740, 8741, 8741, 8741, 8741, 8741, 8741, 8745, 8745, 8755, 8755, 8756, 8756, 8756, 8756, 8756, 8756, 8757, 8757, 8757, 8757, 8757, 8758, 8758, 8758, 8759, 8759, 8760, 8760, 8760, 8760, 8761, 8761, 8761, 8761, 8761, 8765, 8765, 8765, 8765, 8765, 8765, 8765, 8766, 8766, 8766, 8766, 8766, 8766, 8766, 8766, 8766, 8816, 8816, 8816, 8818, 8818, 8818, 8821, 8821, 8821, 8822, 8822, 8822, 8822, 8822, 8824, 8824, 8824, 8824, 8824, 8824, 8824, 8825, 8825, 8825, 8825, 8825, 8825, 8825, 8825, 8825, 8829, 8829, 8829, 8830, 8830, 8830, 8830, 8831, 8831, 8831, 8831, 8832, 8832, 8833, 8833, 8833, 8833, 8834, 8834, 8834, 8838, 8838, 8838, 8838, 8838, 8838, 8845, 8845, 8845, 8845, 8845, 8845, 8845, 8846, 8846, 8846, 8846, 8846, 8846, 8846, 8846, 8846, 8849, 8849, 8849, 8849, 8850, 8850, 8850, 8850, 8850, 8850, 8852, 8852, 8852, 8852, 8852, 8852, 8854, 8854, 8854, 8854, 8854, 8858, 8858, 8858, 8858, 8858, 8858, 8858, 8860, 8860, 8860, 8860, 8860, 8860, 8860, 8860, 8865, 8865, 8865, 8865, 8865, 8865, 8869, 8869, 8869, 8869, 8869, 8869, 8871, 8871, 8871, 8871, 8872, 8872, 8872, 8872, 8872, 8874, 8874, 8874, 8874, 8874, 8874, 8874, 8874, 8878, 8878, 8878, 8878, 8878, 8881, 8881, 8881, 8886, 8886, 8886, 8886, 8886, 8886, 8886, 8886, 8886, 8886, 8889, 8889, 8889, 8889, 8889, 8889, 8890, 8890, 8890, 8890, 8894, 8894, 8895, 8895, 8896, 8896, 8897, 8901, 8901, 8901, 8901, 8901, 8907, 8907, 8907, 8907, 8907, 8907, 8909, 8909, 8909, 8909, 8909, 8909, 8909, 8909, 8909, 8909, 8909, 8915, 8915, 8915, 8915, 8915, 8915, 8917, 8917, 8917, 8919, 8919, 8919, 8919, 8919, 8919, 8945, 8945, 8945, 8945, 8945, 8946, 8946, 8946, 8946, 8946, 8948, 8948, 8948, 8951, 8952, 8952, 8952, 8954, 8955, 8955, 8955, 8955, 8955, 8956, 8956, 8971, 8974, 8974, 8975, 8975, 8975, 8975, 8976, 8977, 8977, 8978, 8978, 8979, 8980, 8981, 8981, 8997, 8997, 8997, 8997, 8997, 9001, 9001, 9001, 9001, 9002, 9002, 9008, 9008, 9009, 9009, 9009, 9009, 9009, 9009, 9009, 9009, 9010, 9010, 9010, 9010, 9012, 9012, 9012, 9012, 9013, 9013, 9013, 9013, 9015, 9015, 9015, 9015, 9015, 9015, 9016, 9016, 9016, 9016, 9025, 9025, 9025, 9025, 9028, 9028, 9033, 9033, 9033, 9036, 9036, 9037, 9037, 9037, 9038, 9038, 9038, 9038, 9038, 9044, 9044, 9044, 9045, 9045, 9045, 9045, 9057, 9057, 9057, 9057, 9057, 9057, 9057, 9059, 9059, 9059, 9059, 9064, 9064, 9064, 9064, 9064, 9066, 9066, 9066, 9066, 9066, 9066, 9072, 9072, 9072, 9102, 9102, 9227, 9243, 9243, 9243, 9243, 9280, 9280, 9280, 9280, 9280, 9280, 9353, 9353, 9358, 9358, 9373, 9374, 9374, 9375, 9376, 9377, 9377, 9377, 9377, 9377, 9378, 9378, 9379, 9380, 9381, 9381, 9381, 9382, 9398, 9398, 9399, 9400, 9403, 9403, 9403, 9408, 9408, 68, 69, 72, 72, 73, 99, 99, 100, 100, 123, 123, 123, 153, 155, 183, 203, 204, 758, 758, 758, 758, 758, 759, 759, 759, 1116, 1262, 1263, 1273, 1279, 1280, 1286, 1286, 1910, 1910, 1910, 1910, 1916, 1960, 1993, 2015, 2016, 2017, 2227, 2737, 2738, 2738, 3401, 3410, 4684, 5644, 5644, 5644, 5647, 5647, 5647, 8301, 8305, 8305, 8617, 8635, 8666, 8670, 8920, 8920, 8920, 8921, 8925, 8926, 8926, 8927, 8927, 8927, 9171, 9171, 9171, 9177, 9177, 9178, 9180, 9180, 9184, 9234, 9234, 9265, 9265, 9266, 9266, 9286, 9286, 9286, 1054, 1196, 1199, 1291, 1291, 1291, 1387, 1440, 1460, 1532, 1603, 1603, 1632, 1795, 1799, 2040, 2040, 2160, 2160, 2266, 2290, 2321, 2441, 2487, 2539, 2539, 2541, 2657, 2706, 2707, 2707, 2754, 2759, 2975, 3045, 3067, 3068, 3068, 3068, 3070, 3211, 3211, 3305, 3378, 3379, 3380, 3380, 3479, 3523, 3524, 3524, 3528, 3528, 3528, 3717, 3718, 3740, 3983, 4006, 4031, 4056, 4072, 4075, 4075, 4363, 4363, 4433, 4482, 4482, 4482, 4482, 4508, 4508, 4510, 4510, 4577, 4577, 4674, 4821, 4827, 4885, 4933, 4982, 5003, 5005, 5005, 5024, 5048, 5100, 5121, 5244, 5337, 5338, 5338, 5340, 5341, 5432, 5433, 5456, 5477, 5504, 5553, 5694, 5722, 5790, 5815, 5816, 5934, 6009, 6102, 6222, 6297, 6440, 6465, 7822, 7823, 7942, 7991, 7991, 3090, 4154, 4154, 4154, 4155, 4155, 4155, 4156, 4156, 4156, 4156, 4156, 4156, 4157, 4157, 4157, 4158, 4158, 4158, 4158, 4159, 4159, 4160, 4160, 4161, 4161, 4162, 4162, 4162, 4162, 4163, 4164, 4164, 4164, 4165, 4165, 4166, 4166, 4166, 4166, 4167, 4167, 4167, 4167, 4167, 4177, 4178, 4178, 4179, 4179, 4179, 4180, 4180, 4180, 4180, 4182, 4182, 4182, 4182, 4182, 4183, 4183, 4187, 4187, 4188, 4188, 4189, 4189, 4189, 4189, 4190, 4192, 4192, 4201, 4201, 4202, 4202, 4204, 4204, 4206, 4206, 4206, 4206, 4206, 4216, 4216, 4216, 4216, 4226, 4226, 4226, 4226, 4226, 4226, 4228, 4228, 4228, 4228, 4231, 4231, 4231, 4232, 4232, 4232, 4233, 4233, 4233, 4235, 4235, 4235, 4238, 4240, 4240, 4240, 4240, 4248, 4258, 4258, 4259, 4260, 4264, 4264, 4264, 4264, 4265, 4265, 4265, 4275, 4279, 4280, 4280, 4282, 4282, 4282, 4283, 4284, 4284, 4285, 4287, 4287, 4288, 4299, 4299, 4299, 4302, 4302, 4307, 4308, 4310, 4310, 4310, 4321, 4322, 4322, 4322, 4322, 4323, 4323, 4324, 4326, 4327, 4327, 4328, 4328, 4329, 4331, 4331, 4331, 4333, 4346, 4346, 4346, 4346, 4347, 4352, 4352, 4353, 4353, 4353, 4354, 4354, 4355, 4357, 4357, 4357, 4358, 4359, 4359, 4369, 4369, 4373, 4373, 4375, 4375, 4375, 4375, 4376, 4376, 4376, 4378, 4378, 4378, 4378, 4379, 4379, 4379, 4379, 4383, 4383, 4383, 4384, 4384, 4386, 4386, 4386, 4387, 4387, 4387, 4387, 4388, 4388, 4388, 4389, 4392, 4392, 4392, 4395, 4395, 4397, 4397, 4400, 4400, 4402, 4402, 4403, 4403, 4408, 4408, 4409, 4409, 4412, 4412, 4416, 4416, 4419, 4419, 4423, 4440, 4442, 4444, 4444, 4444, 4444, 4444, 4456, 4456, 4467, 4467, 4467, 4467, 4468, 4468, 4468, 4470, 4470, 4470, 4474, 4474, 4474, 4477, 4488, 4502, 4502, 4511, 4513, 4514, 4514, 4523, 4523, 4524, 4526, 4527, 4527, 4527, 4530, 4533, 4535, 4538, 4540, 4542, 4542, 4543, 4545, 4547, 4548, 4564, 4564, 4569, 4570, 4571, 4572, 4573, 4574, 4575, 4576, 4584, 4585, 4586, 4586, 4586, 4586, 4592, 4592, 4595, 4597, 4608, 4609, 4609, 4610, 4610, 4610, 4611, 4611, 4611, 4611, 4613, 4613, 4613, 4614, 4614, 4614, 4615, 4616, 4618, 4618, 4619, 4619, 4620, 4623, 4623, 4623, 4624, 4624, 4625, 4635, 4635, 4636, 4636, 4640, 4642, 4643, 4692, 4692, 4693, 4693, 4696, 4696, 98, 98, 760, 760, 2840, 2840, 2840, 2841, 2841, 2841, 2842, 2842, 2843, 2843, 2844, 2844, 2844, 2845, 2845, 2845, 2846, 2846, 2847, 3009, 3010, 3010, 3011, 3011, 3012, 3012, 3012, 3013, 3013, 3014, 3016, 3017, 3024, 3024, 3184, 3192, 3192, 3192, 3209, 3209, 3210, 3210, 3359, 5636, 5636, 5636, 9245, 9245, 9246, 9246, 9248, 9285, 9285, 9285, 9288, 9288, 9289, 9289, 9292, 9293, 9293, 9294, 9294, 9294, 9295, 9295, 9301, 9302, 9303, 40, 41, 42, 42, 43, 43, 43, 281, 282, 284, 285, 286, 287, 288, 289, 290, 291, 291, 292, 293, 304, 304, 305, 305, 306, 306, 306, 307, 307, 310, 310, 310, 310, 310, 311, 312, 313, 314, 315, 315, 316, 317, 317, 317, 318, 328, 329, 329, 329, 330, 331, 331, 331, 332, 333, 335, 335, 336, 337, 338, 339, 340, 341, 341, 352, 353, 354, 354, 355, 356, 356, 356, 356, 357, 358, 358, 359, 360, 361, 362, 363, 363, 364, 365, 365, 365, 376, 376, 376, 378, 379, 379, 379, 380, 381, 382, 383, 384, 384, 384, 385, 386, 387, 388, 621, 621, 622, 623, 623, 624, 625, 626, 626, 627, 627, 627, 628, 628, 628, 628, 640, 640, 641, 641, 641, 642, 644, 645, 646, 648, 649, 649, 650, 650, 651, 651, 651, 651, 651, 652, 653, 653, 653, 664, 664, 665, 665, 666, 666, 667, 667, 668, 669, 670, 671, 672, 673, 674, 674, 675, 675, 675, 676, 676, 677, 677, 677, 678, 678, 688, 688, 689, 689, 689, 689, 689, 689, 690, 690, 690, 690, 691, 691, 692, 692, 693, 693, 694, 694, 695, 695, 696, 696, 697, 697, 698, 698, 699, 700, 701, 785, 786, 786, 787, 789, 791, 791, 791, 792, 793, 793, 793, 794, 809, 809, 810, 811, 811, 812, 813, 814, 815, 815, 815, 815, 816, 817, 817, 817, 819, 819, 820, 820, 820, 820, 821, 832, 832, 832, 833, 833, 834, 834, 834, 835, 835, 835, 835, 835, 838, 839, 839, 841, 842, 842, 843, 843, 843, 843, 843, 843, 844, 844, 844, 845, 976, 977, 978, 978, 978, 980, 980, 1036, 1036, 1036, 1036, 1036, 1036, 1037, 1038, 1038, 1039, 1039, 1039, 1040, 1050, 1123, 1125, 1611, 1612, 1612, 1612, 1613, 1637, 1637, 1638, 1648, 1696, 1697, 1697, 1698, 1698, 1698, 1779, 1782, 1782, 1782, 1793, 1793, 1793, 1793, 1794, 1794, 1794, 1801, 1801, 1802, 1803, 1803, 1803, 1843, 1843, 1844, 1844, 1846, 1847, 1847, 1848, 1849, 1849, 1850, 1850, 1851, 1851, 1852, 1852, 1853, 1853, 4587, 4587, 4587, 4587, 4587, 4588, 4588, 4590, 4590, 4598, 4598, 4612, 4621, 4621, 4631, 4632, 4634, 4637, 4637, 4646, 4646, 4647, 4647, 4648, 4648, 4775, 5907, 5909, 5910, 5911, 5913, 5914, 5915, 6062, 6062, 6317, 6318, 6319, 6320, 6321, 6321, 6323, 6323, 6324, 6324, 6325, 6325, 6326, 6326, 6326, 6327, 6327, 6328, 6329, 6329, 6329, 6339, 6339, 6341, 6341, 6342, 6343, 6343, 6344, 6345, 6345, 6346, 6347, 6349, 6349, 6350, 6350, 6351, 6351, 6352, 6352, 6363, 6363, 6364, 6364, 6364, 6365, 6366, 6368, 6368, 6369, 6370, 6372, 6373, 6374, 6374, 6374, 6374, 6375, 6375, 6376, 6377, 6377, 6386, 6387, 6387, 6387, 6388, 6388, 6388, 6388, 6389, 6390, 6391, 6391, 6393, 6394, 6394, 6394, 6395, 6396, 6397, 6397, 6400, 6472, 6484, 6484, 6488, 6489, 6490, 6491, 6491, 6492, 6492, 6495, 6495, 6497, 6506, 6507, 6507, 6507, 6507, 6508, 6508, 6508, 6510, 6510, 6511, 6511, 6513, 6514, 6515, 6515, 6516, 6517, 6519, 6520, 6521, 6522, 6529, 6529, 6530, 6531, 6532, 6533, 6534, 6535, 6535, 6536, 6536, 6537, 6537, 6538, 6539, 6540, 6541, 6542, 6543, 6544, 6545, 6554, 6554, 6555, 6555, 6555, 6555, 6556, 6557, 6557, 6557, 6558, 6558, 6558, 6559, 6560, 6561, 6562, 6562, 6564, 6564, 6566, 6566, 6567, 6568, 6568, 6569, 6569, 6627, 6627, 6627, 6627, 6627, 6628, 6628, 6628, 6630, 6630, 6631, 6632, 6632, 6633, 6634, 6634, 6635, 6636, 6637, 6637, 6638, 6638, 6638, 6639, 6639, 6640, 6650, 6651, 6651, 6652, 6652, 6653, 6653, 6654, 6654, 6655, 6656, 6658, 6659, 6662, 6662, 6662, 6663, 6663, 6664, 6665, 6665, 6665, 6674, 6675, 6675, 6675, 6675, 6676, 6676, 6676, 6676, 6678, 6680, 6682, 6682, 6683, 6686, 6686, 6688, 6700, 6701, 6701, 6722, 6724, 6734, 6734, 6734, 6734, 6735, 6735, 7842, 7849, 7850, 7851, 7852, 7852, 7852, 7852, 7854, 7866, 7867, 7867, 7868, 7869, 7870, 7870, 7871, 7873, 7874, 7875, 7875, 7877, 7877, 7878, 7878, 7879, 7890, 7890, 7890, 7891, 7891, 7891, 7893, 7894, 7895, 7896, 7897, 7897, 7898, 7899, 7899, 7899, 7899, 7901, 7901, 7901, 7902, 7902, 7903, 7904, 7904, 7904, 7905, 7905, 7913, 7915, 7916, 7917, 7918, 7919, 7922, 7923, 7925, 7926, 7926, 7927, 7988, 7989, 7990, 7992, 7993, 7993, 7995, 7996, 7996, 7996, 7996, 7997, 7997, 7997, 7998, 7998, 7999, 7999, 8009, 8010, 8011, 8012, 8012, 8015, 8018, 8019, 8019, 8020, 8020, 8020, 8021, 8021, 8021, 8022, 8022, 8023, 8024, 8025, 8033, 8035, 8037, 8038, 8039, 8039, 8040, 8042, 8043, 8043, 8043, 8044, 8044, 8044, 8045, 8045, 8048, 8057, 8059, 8061, 8061, 8062, 8062, 8063, 8064, 8065, 8066, 8066, 8067, 8067, 8067, 8068, 8068, 8068, 8069, 8189, 8190, 8191, 8199, 8221, 8222, 8222, 8224, 8224, 8227, 8228, 8229, 8231, 8231, 8231, 8232, 8232, 8234, 8236, 8318, 8319, 8321, 8322, 8324, 8325, 8326, 8327, 8341, 8341, 8352, 8352, 8413, 8414, 8414, 8415, 8416, 8416, 8416, 8417, 8417, 8418, 8418, 8418, 8419, 8419, 8421, 8423, 8423, 8424, 8424, 8425, 8425, 8474, 8475, 8476, 8485, 8485, 8486, 8486, 8486, 8487, 8487, 8487, 8488, 8489, 8490, 8491, 8492, 8492, 8493, 8493, 8494, 8494, 8494, 8495, 8495, 8496, 8496, 8496, 8498, 8499, 8512, 8512, 8514, 8515, 8516, 8516, 8516, 8517, 8517, 8518, 8520, 8520, 8520, 8520, 8520, 8520, 8520, 8520, 8520, 8520, 8520, 8522, 8522, 8533, 8535, 8535, 8536, 8536, 8537, 8538, 8538, 8538, 8539, 8540, 8540, 8541, 8542, 8542, 8543, 8543, 8543, 8544, 8548, 8549, 8549, 8549, 8550, 8551, 8554, 8555, 8556, 8557, 8557, 8559, 8560, 8560, 8561, 8561, 8563, 8564, 8564, 8565, 8566, 8566, 8567, 8567, 8567, 8568, 8568, 8568, 8569, 8569, 8569, 8571, 8572, 8584, 8585, 8586, 8586, 8587, 8587, 8593, 8593, 8593, 8594, 8661, 8663, 8663, 8663, 8663, 8665, 8679, 8680, 8680, 8681, 8682, 8683, 8684, 8685, 8689, 8701, 8730, 8733, 8735, 8763, 8826, 8827, 8847, 8847, 8847, 8848, 8848, 8851, 8851, 8867, 8867, 8870, 8875, 8877, 8879, 8880, 8882, 8883, 8885, 8887, 8891, 8893, 8900, 8903, 8908, 8947, 8988, 8989, 8990, 8990, 8991, 8992, 8993, 8995, 8995, 8996, 8999, 9011, 9011, 9014, 9017, 9017, 9018, 9018, 9019, 9020, 9021, 9023, 9032, 9034, 9035, 9039, 9039, 9040, 9041, 9042, 9042, 9043, 9046, 9060, 9063, 9067, 9068, 9081, 9081, 44, 44, 171, 172, 172, 219, 245, 245, 267, 411, 483, 497, 497, 532, 533, 533, 533, 546, 547, 547, 555, 555, 556, 556, 723, 723, 747, 748, 857, 857, 857, 858, 858, 858, 858, 858, 867, 867, 867, 891, 891, 915, 963, 963, 964, 965, 1011, 1035, 1060, 1083, 1084, 1085, 1108, 1132, 1133, 1133, 1156, 1157, 1157, 1180, 1180, 1227, 1227, 1227, 1228, 1228, 1253, 1253, 1275, 1299, 1300, 1324, 1348, 1348, 1349, 1349, 1349, 1361, 1373, 1373, 1396, 1396, 1397, 1397, 1444, 1444, 1445, 1468, 1468, 1481, 1481, 1492, 1492, 1492, 1493, 1516, 1540, 1541, 1564, 1588, 1589, 1589, 1601, 1624, 1625, 1626, 1636, 1660, 1660, 1660, 1661, 1684, 1684, 1684, 1685, 1708, 1709, 1732, 1756, 1756, 1757, 1769, 1769, 1769, 1770, 1770, 1828, 1828, 1829, 1829, 1876, 1876, 1876, 1876, 1918, 1918, 1948, 2021, 2044, 2044, 2044, 2045, 2047, 2047, 2047, 2068, 2094, 2095, 2095, 2140, 2140, 2152, 2164, 2165, 2181, 2181, 2181, 2181, 2253, 2253, 2253, 2263, 2264, 2277, 2301, 2301, 2311, 2324, 2335, 2348, 2349, 2350, 2350, 2360, 2360, 2360, 2385, 2385, 2444, 2444, 2445, 2493, 2517, 2527, 2527, 2528, 2529, 2559, 2559, 2559, 2596, 2597, 2597, 2607, 2621, 2621, 2622, 2622, 2622, 2715, 2715, 2716, 2764, 2764, 2764, 2764, 2764, 2789, 2789, 2860, 2861, 2861, 2861, 2871, 2871, 2872, 2895, 2895, 2895, 2909, 2909, 2910, 2957, 2957, 2967, 2969, 2969, 3077, 3077, 3087, 3088, 3091, 3101, 3101, 3231, 3231, 3234, 3256, 3293, 3293, 3341, 3365, 3365, 3386, 3387, 3389, 3389, 3436, 3436, 3437, 3459, 3461, 3470, 3470, 3483, 3483, 3484, 3508, 3509, 3510, 3532, 3533, 3533, 3534, 3591, 3677, 3677, 3677, 3772, 3772, 3951, 3989, 4013, 4119, 4119, 4119, 4131, 4349, 4350, 4350, 4418, 4469, 4469, 4469, 4479, 4480, 4491, 4515, 4515, 4599, 4709, 4833, 4848, 4859, 4859, 4892, 4913, 4913, 4985, 4985, 4986, 4999, 4999, 5000, 5000, 5000, 5034, 5034, 5035, 5035, 5046, 5046, 5046, 5322, 5322, 5322, 5367, 5368, 5368, 5390, 5390, 5392, 5405, 5405, 5427, 5431, 5500, 5523, 5524, 5559, 5583, 5595, 5679, 5751, 5763, 5967, 6015, 6015, 6052, 6052, 6053, 6099, 6099, 6110, 6111, 6135, 6135, 6147, 6158, 6170, 6170, 6171, 6171, 6172, 6172, 6194, 6195, 6207, 6218, 6219, 6220, 6231, 6255, 6278, 6279, 6303, 6315, 6340, 6398, 6398, 6398, 6446, 6459, 6470, 6470, 6470, 6614, 6677, 6710, 6758, 7805, 7949, 7972, 8140, 8141, 8449, 8583, 8615, 8615, 8688, 9091, 9115, 9116, 9153, 9154, 9212, 9215, 9322, 9323, 9330, 9332, 9354, 9402, 1, 39, 46, 47, 50, 56, 61, 61, 390, 393, 394, 486, 1567, 1730, 1731, 1823, 1824, 1868, 1881, 1881, 1917, 2025, 2029, 2074, 2105, 2119, 2230, 2310, 2310, 2313, 2691, 2907, 2907, 2913, 3152, 3321, 3322, 3324, 4111, 4115, 4137, 4252, 4420, 4421, 4424, 4428, 4430, 4446, 4447, 4448, 4449, 4449, 4450, 4452, 4476, 4493, 4494, 4495, 4496, 4496, 4496, 4566, 4591, 4591, 4912, 4961, 4974, 5007, 5037, 5058, 5093, 5095, 5111, 5114, 5140, 5170, 5349, 5775, 5848, 5871, 6290, 6322, 6585, 7794, 7796, 8000, 8153, 8344, 8344, 8344, 8344, 8344, 8344, 8344, 8344, 8344, 8344, 8344, 8344, 8344, 8347, 8407, 8477, 8480, 8526, 8596, 8597, 8598, 8599, 8599, 8600, 8607, 8662, 8855, 8857, 8873, 8904, 8943, 8949, 8966, 8968, 9133, 16, 16, 16, 22, 22, 35, 35, 35, 226, 226, 1442, 1659, 1753, 1753, 1816, 1816, 1867, 1867, 1871, 1890, 1904, 1923, 2003, 2019, 2019, 2019, 2019, 2020, 2048, 2049, 2052, 2063, 2063, 2091, 2092, 2093, 2097, 2106, 2107, 2112, 2113, 2114, 2120, 2150, 2179, 2180, 2180, 2190, 2191, 2204, 2206, 2207, 2211, 2215, 2231, 2233, 2233, 2261, 2261, 2279, 2332, 2382, 2382, 2396, 2425, 2473, 2476, 2551, 2556, 2557, 2558, 2598, 2599, 2600, 2601, 2619, 2620, 2624, 2632, 2634, 2638, 2639, 2640, 2641, 2647, 2648, 2654, 2670, 2670, 2672, 2675, 2675, 2696, 2697, 2698, 2701, 2719, 2720, 2720, 2720, 2721, 2723, 2724, 2726, 2743, 2743, 2744, 2745, 2746, 2748, 2750, 2750, 2767, 2768, 2770, 2772, 2772, 2787, 2788, 2790, 2791, 2792, 2792, 2794, 2811, 2812, 2813, 2814, 2815, 2816, 2817, 2818, 2820, 2821, 2822, 2835, 2836, 2836, 2837, 2838, 2839, 2864, 2864, 2867, 2867, 2883, 2884, 2886, 2886, 2887, 2890, 2890, 2891, 2931, 2933, 2935, 2938, 2939, 2940, 2941, 2944, 2953, 2954, 2955, 2958, 2959, 2964, 2965, 2982, 2984, 2985, 2986, 2987, 2988, 3003, 3004, 3006, 3007, 3028, 3030, 3031, 3033, 3035, 3036, 3037, 3038, 3053, 3053, 3054, 3055, 3056, 3056, 3058, 3058, 3059, 3060, 3078, 3079, 3080, 3086, 3102, 3103, 3103, 3109, 3110, 3125, 3126, 3129, 3132, 3133, 3134, 3150, 3151, 3157, 3158, 3172, 3175, 3176, 3178, 3179, 3181, 3194, 3196, 3198, 3199, 3200, 3201, 3202, 3204, 3205, 3206, 3208, 3217, 3222, 3223, 3224, 3225, 3226, 3229, 3245, 3246, 3249, 3250, 3250, 3253, 3268, 3269, 3270, 3271, 3271, 3273, 3276, 3277, 3278, 3294, 3302, 3313, 3316, 3328, 3337, 3342, 3348, 3348, 3371, 3372, 3374, 3375, 3376, 3377, 3391, 3392, 3392, 3393, 3397, 3398, 3400, 3445, 3445, 3457, 3460, 3462, 3463, 3467, 3468, 3488, 3490, 3493, 3494, 3504, 3515, 3516, 3518, 3519, 3529, 3536, 3537, 3539, 3540, 3552, 3558, 3559, 3564, 3565, 3565, 3581, 3581, 3582, 3585, 3613, 3616, 3616, 3629, 3634, 3636, 3637, 3638, 3651, 3672, 3674, 3684, 3685, 3688, 3697, 3707, 3708, 3721, 3760, 3997, 4091, 4251, 4332, 4334, 4704, 4728, 4772, 4798, 4901, 4959, 5068, 5180, 5302, 5876, 6443, 6469, 6469, 7937, 8204, 8351, 8443, 8444, 8445, 8462, 8466, 8467, 8472, 8589, 8591, 8614, 8614, 8664, 8817, 8859, 8958, 9051, 9053, 9079, 9097, 9104, 9146, 9147, 9150, 9176, 9213, 9214, 9221, 9222, 9225, 9226, 9228, 9230, 9231, 9232, 9233, 9249, 9250, 9251, 9252, 9253, 9255, 9256, 9257, 9259, 9262, 9290, 9296, 9305, 9309, 9312, 9315, 9317, 9318, 9334, 9336, 9337, 9339, 9340, 9341, 9342, 9357, 9360, 9363, 9365, 9367, 9368, 9384, 9385, 9386, 9387, 9388, 9388, 9389, 9389, 9392, 9393, 9394, 9396, 9397, 9406, 9407, 818, 856, 868, 987, 1179, 1234, 1235, 1347, 1371, 1805, 2234, 2235, 2235, 4407, 4694, 4695, 5635, 5635, 5635, 6206, 6206, 6206, 6565, 6626, 6626, 6629, 9390]\n"
     ]
    }
   ],
   "source": [
    "from collections import Counter\n",
    "\n",
    "out_counter = Counter()\n",
    "\n",
    "\n",
    "# For each feature find the data points with extreme high or low values\n",
    "for feature in scaled_data.T:\n",
    "    \n",
    "    # TODO: Calculate Q1 (25th percentile of the data) for the given feature\n",
    "    Q1 = np.percentile(feature,25)\n",
    "    \n",
    "    # TODO: Calculate Q3 (75th percentile of the data) for the given feature\n",
    "    Q3 = np.percentile(feature,75)\n",
    "    \n",
    "    # TODO: Use the interquartile range to calculate an outlier step (1.5 times the interquartile range)\n",
    "    step = (Q3 - Q1)*1.5\n",
    "    \n",
    "    # Display the outliers\n",
    "    print(\"Data points considered outliers for the feature '{}':\".format(feature))\n",
    "    #new_log_data = log_data[~((log_data[feature] >= Q1 - step) & (log_data[feature] <= Q3 + step))]\n",
    "    new_data = feature[~((feature >= Q1 - step) & (feature <= Q3 + step))]\n",
    "    \n",
    "    #savr indices\n",
    "    new_data_index = []\n",
    "    feature_list = feature.tolist()\n",
    "    for data in new_data:\n",
    "        if data in feature_list:\n",
    "            new_data_index.append(feature_list.index(data))\n",
    "            \n",
    "    display(new_data[0:5])\n",
    "    for index in new_data_index:\n",
    "        out_counter[index] += 1\n",
    "        \n",
    "# OPTIONAL: Select the indices for data points you wish to remove\n",
    "outliers  = [list(out_counter.elements())]\n",
    "\n",
    "print (list(out_counter.elements()))\n",
    "\n",
    "# Remove the outliers, if any were specified\n",
    "#good_data = scaled_data.drop(scaled_data.index[outliers]).reset_index(drop = True)\n",
    "good_data = np.delete(scaled_data, ([outliers]), axis=0)"
   ]
  },
  {
   "cell_type": "markdown",
   "metadata": {},
   "source": [
    "### Visualize feature distrubution"
   ]
  },
  {
   "cell_type": "code",
   "execution_count": 69,
   "metadata": {},
   "outputs": [
    {
     "name": "stdout",
     "output_type": "stream",
     "text": [
      "5269\n"
     ]
    }
   ],
   "source": [
    "print(len(good_data))"
   ]
  },
  {
   "cell_type": "code",
   "execution_count": null,
   "metadata": {},
   "outputs": [],
   "source": [
    "pd.plotting.scatter_matrix(master_df, alpha = 0.3, figsize = (14,8), diagonal = 'kde');\n",
    "master_df.corr()"
   ]
  },
  {
   "cell_type": "markdown",
   "metadata": {},
   "source": [
    "### Create samples"
   ]
  },
  {
   "cell_type": "code",
   "execution_count": null,
   "metadata": {},
   "outputs": [],
   "source": [
    "# TODO: Select three indices of your choice you wish to sample from the dataset\n",
    "indices = [245,3045,6368]\n",
    "\n",
    "# Create a DataFrame of the chosen samples\n",
    "samples = pd.DataFrame(X.loc[indices], columns = X.keys()).reset_index(drop = True)\n",
    "print(\"Chosen samples of wholesale customers dataset:\")\n",
    "display(samples)"
   ]
  },
  {
   "cell_type": "code",
   "execution_count": null,
   "metadata": {},
   "outputs": [],
   "source": [
    "import seaborn as sns\n",
    "\n",
    "percentiles_data = 100*X.rank(pct=True)\n",
    "percentiles_samples = percentiles_data.iloc[indices]\n",
    "sns.heatmap(percentiles_samples, annot=True)"
   ]
  },
  {
   "cell_type": "code",
   "execution_count": null,
   "metadata": {},
   "outputs": [],
   "source": []
  },
  {
   "cell_type": "code",
   "execution_count": null,
   "metadata": {},
   "outputs": [],
   "source": [
    "#master_df = master_df.drop(['Uhrzeit'], 1)\n",
    "# TODO: Scale the data using the natural logarithm\n",
    "log_data = np.log(X_scaled)\n",
    "\n",
    "# TODO: Scale the sample data using the natural logarithm\n",
    "#log_samples = np.log(samples)\n",
    "\n",
    "# Produce a scatter matrix for each pair of newly-transformed features\n",
    "pd.scatter_matrix(log_data, alpha = 0.3, figsize = (14,8), diagonal = 'kde');"
   ]
  },
  {
   "cell_type": "code",
   "execution_count": null,
   "metadata": {},
   "outputs": [],
   "source": [
    "np.isnan(master_df).any()\n",
    "np.isnan(samples).any()"
   ]
  },
  {
   "cell_type": "code",
   "execution_count": null,
   "metadata": {},
   "outputs": [],
   "source": [
    "display(master_df.columns.values)"
   ]
  },
  {
   "cell_type": "code",
   "execution_count": null,
   "metadata": {},
   "outputs": [],
   "source": []
  }
 ],
 "metadata": {
  "kernelspec": {
   "display_name": "Python 3",
   "language": "python",
   "name": "python3"
  },
  "language_info": {
   "codemirror_mode": {
    "name": "ipython",
    "version": 3
   },
   "file_extension": ".py",
   "mimetype": "text/x-python",
   "name": "python",
   "nbconvert_exporter": "python",
   "pygments_lexer": "ipython3",
   "version": "3.6.4"
  }
 },
 "nbformat": 4,
 "nbformat_minor": 2
}
