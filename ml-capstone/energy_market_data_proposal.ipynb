{
 "cells": [
  {
   "cell_type": "markdown",
   "metadata": {},
   "source": [
    "# Machine Learning Engineer Nanodegree\n",
    "***"
   ]
  },
  {
   "cell_type": "markdown",
   "metadata": {},
   "source": [
    "## Capstone Proposal\n",
    "***\n",
    "Monish Ananthu<br>\n",
    "September 30th, 2018"
   ]
  },
  {
   "cell_type": "markdown",
   "metadata": {},
   "source": [
    "## Domain Background\n",
    "\n",
    "### SMARD\n",
    "\n",
    "[Link to SMARD Website](https://www.smard.de/en)\n",
    "\n",
    "The Bundesnetzagentur's electricity market information platform \"SMARD\" is an abbreviation of the German term “Strommarktdaten”, which translates to electricity market data. Data that is published on SMARD’s website gives an up-to-date and in-depth overview of what is happening on the German electricity market. \n",
    "\n",
    "How high is electricity supply and demand? How big is the share of electricity generated from renewable sources? How does electricity consumption change over the course of the day? How much electricity is imported into Germany and exported to its neighbours? SMARD's market data provides answers to these and many other questions.\n",
    "\n",
    "The following electricity market data categories can be accessed/downloaded:\n",
    "\n",
    " - Electricity generation\n",
    "     * Actual generation\n",
    "     * Forecasted generation\n",
    "     * Installed capacity     \n",
    "<br>     \n",
    " - Electricity consumption\n",
    "     * Realised consumption\n",
    "     * Forecasted consumption\n",
    "<br>\n",
    "\n",
    "\n",
    " - The market\n",
    "     * Wholesale market price\n",
    "     * Commercial exchanges\n",
    "     * Physical flows     \n",
    "<br>  \n",
    "\n",
    " - System stability\n",
    "     * Balancing energy\n",
    "     * Total costs\n",
    "     * Primary balancing capacity\n",
    "     * Secondary balancing capacity\n",
    "     * Tertiary balancing reserve\n",
    "     * Exported balancing energy\n",
    "     * Imported balancing energy\n",
    "\n",
    "The above data is available from 2015 onwards. The statistical data available is visuallized and limited to a specific subcategory (for example: Electricity generation --> Actual generation). The visualization does not convey how the data is correlated to one another and also the correlation of data between different catagories like \"Actual generation\" and \"Wholesale market price\" would be a very interesting to determine.\n",
    "\n",
    "#### What makes SMARD Data so interesting?\n",
    " - Data is already consolidated from different transmission system operators in a standard format\n",
    " - High frequency of data (in 15 minute / hourly intervals) provides a good basis for data analysis\n",
    " - Data available from 2015 ist constantly updated\n",
    " \n",
    "#### Personal motivations\n",
    "In my current role, I'm responsible to create new digital services for electromobility. I was curious to know more about the sources of energy produced in Germany and the current trend for regenerative energy. Since in the end, the price is a deciding factor for the end customer I chose to determine the current trend regarding energy prices based on different sources."
   ]
  },
  {
   "cell_type": "markdown",
   "metadata": {},
   "source": [
    "## Problem Statement"
   ]
  },
  {
   "cell_type": "markdown",
   "metadata": {},
   "source": [
    "The problem to be solved is the prediction of the wholesale market price of energy [Euro/MWh] using the data available above. The problem at hand is a supervised learning problem in the field of Machine Learning. From the **Datasets and Inputs** section below, we have the following input data:\n",
    "\n",
    "a. Actual generation<br>\n",
    "b. Realized Consumption<br>\n",
    "c. Balancing energy<br>\n",
    "\n",
    "It is important to find correlations among the above input features and use this information to predict the wholesale market price of energy.\n",
    "\n",
    "All data is available in CSV format\n",
    "\n",
    "#### Optional goals\n",
    "\n",
    " - Find correlations among available features and discover new insights on the data"
   ]
  },
  {
   "cell_type": "markdown",
   "metadata": {},
   "source": [
    "## Datasets and Inputs"
   ]
  },
  {
   "cell_type": "markdown",
   "metadata": {},
   "source": [
    "The data sets can be downloaded at [https://www.smard.de/en/downloadcenter/download_market_data](Link) <br>\n",
    "Select category, sub-category, country = Germany, Dates: 01/01/2015 - 31/12/2015, Filetype: CSV and download file.\n",
    "\n",
    "We will consider 2 Datesets:\n",
    "\n",
    "a. Small data set - valid for 2015\n",
    "\n",
    "b. Large data set - valid from 01/01/2015 - 30/09/2018\n",
    "\n",
    "The subcategories below refer to feature sets. If a sub-category is not relevant, all features in the feature set can be discarded. Partial relevance means that a part of the the features need to be considered.\n",
    "\n",
    "\n",
    "|        Category        |    Sub-category   | Relevant? | Data frequency | File name |         Details                  |\n",
    "|------------------------|-------------------|-----------|----------------|-----------|----------------------------------|\n",
    "| Electricity generation | Actual generation |    yes    |    15 mins     | DE_Actual generation.csv |Amount of energy generated by different sources at a specific time period|\n",
    "|                        | <font color='red'>Forecasted generation</font> | <font color='red'>no</font> | <font color='red'>15 mins</font> | <font color='red'>DE_Prognostizierte Erzeugung.csv</font> | <font color='red'>Forecasted features are not relevant</font>|\n",
    "|                        | <font color='red'>Installed Capacity</font> |<font color='red'>no</font>|<font color='red'>NA</font>| <font color='red'>DE_Installierte Erzeugungsleistng.csv</font>| <font color='red'>Not enough data</font>|\n",
    "| Electricity consumption | Realized consumption |    yes    |    15 mins     | DE_Actual consumption.csv |Energy consumption at a specific time period|\n",
    "|                         | <font color='red'>Forecasted consumption</font> | <font color='red'>no</font>|<font color='red'>15 mins</font> |<font color='red'>DE_Prognostizierter Stromverbrauch.csv</font> | <font color='red'>Forecasted features are not relevant</font> |\n",
    "| The Market | Wholesale market price |yes (partially)|15 mins|DE_Day-ahead prices.csv| Energy price per MWh. Only data for Germany is relevant|\n",
    "|            | <font color='red'>Commercial exchanges</font> |<font color='red'>no</font>|<font color='red'>60 mins</font>|<font color='red'>DE_Kommerzieller Außenhandel.csv</font>|<font color='red'>Energy Imports and Exports are out of scope for price prediction</font>|\n",
    "|            |<font color='red'>Physical flows</font>|<font color='red'>no</font>|<font color='red'>60 mins</font>| <font color='red'>DE_Physikalischer Stromfluss.csv</font> |<font color='red'>Energy Imports and Exports are out of scope for price prediction</font>|\n",
    "| System stability | Balancing energy |    yes    |    15 mins     | DE_Balancing energy.csv | Overall energy balancing volumes and balancing price|\n",
    "|                  | <font color='red'>Total costs</font>  |<font color='red'>no</font>|<font color='red'>monthly</font>|<font color='red'>DE_Total costs.csv</font>|<font color='red'>Not enough data</font>|\n",
    "|                  |<font color='red'>Primary balancing capacity</font> |<font color='red'>no</font>|<font color='red'>15 mins</font>|<font color='red'>DE_Primärregelleistung.csv</font>|<font color='red'>Energy balancing efforts and resulting costs are not in scope</font>|\n",
    "|                  | <font color='red'>Secondary bancing capacity</font> |<font color='red'>no</font>|<font color='red'>15 mins</font>|<font color='red'>DE_Sekundärregelleistung.csv</font> |<font color='red'>Energy balancing efforts and resulting costs are not in scope</font>|\n",
    "|                  |<font color='red'>Tertiary balancing reserve</font> |<font color='red'>no</font>|<font color='red'>15 mins</font>| <font color='red'>DE_Minutenreserve.csv</font> | <font color='red'>Energy balancing efforts and resulting costs are not in scope</font>|\n",
    "|                  | <font color='red'>Exported balancing energy</font>|<font color='red'>no</font>|<font color='red'>NA</font>|<font color='red'>NA</font> |<font color='red'>No data available for 2015</font>|\n",
    "|                  | <font color='red'>Imported balancing energy</font>|<font color='red'>no</font>|<font color='red'>NA</font>|<font color='red'>NA</font> |<font color='red'>No data available for 2015</font>|\n",
    "\n",
    "<br>\n",
    "After the initial screening we have the following features:\n",
    "<br>\n",
    "\n",
    "|        Category        |    Sub-category   | Feature | Data frequency |Comments|\n",
    "|------------------------|-------------------|-----------|----------------|-----------|\n",
    "| | | Date | | Date starting 01/01/2015 - 31/12/2015 |\n",
    "| | | Time of day | | Timestamps in 15 min intervals for the date range specified above |\n",
    "| Electricity generation | Actual generation | Hydropower[MWh]| 15 mins| Generated energy in MWh |\n",
    "|  |  | Wind offshore[MWh] |    15 mins     | Generated energy in MWh |\n",
    "|  |  | Wind onshore[MWh] |    15 mins     | Generated energy in MWh |\n",
    "|  |  | Photovoltaics[MWh] |    15 mins     | Generated energy in MWh |\n",
    "|  |  | Other renewable[MWh] |    15 mins     | Generated energy in MWh |\n",
    "|  |  | Nuclear[MWh] |    15 mins     | Generated energy in MWh |\n",
    "|  |  | Fossil brown coal[MWh] |    15 mins     | Generated energy in MWh |\n",
    "|  |  | Fossil hard coal[MWh] |    15 mins     | Generated energy in MWh |\n",
    "|  |  | Fossil gas[MWh] |    15 mins     | Generated energy in MWh |\n",
    "|  |  | Hydro pumped storage[MWh] |    15 mins     | Generated energy in MWh |\n",
    "|  |  | Other conventional[MWh] |    15 mins     | Generated energy in MWh |\n",
    "| Electricity consumption  | Actual consumption | Total[MWh] | 15 mins | Feature name needs to be modified to Total consumption for simplicity |\n",
    "| The Market | Wholesale market price | Germany/Austria/Luxembourg[Euro/MWh] | 60 mins | Market prices of other countries are not relevant and need not be considered. The feature name will be renamed to Price Germany for simplicity |\n",
    "| System stability | Balancing energy  | Balancing energy volume[MWh] | 15 mins | Balancing energy in MWh |\n",
    "|  |  | Balancing energy price[Euro/MWh] | 15 mins | Price for balancing energy Euro/MWh |\n",
    "\n",
    "Each of the features in the dataset contains a value for a particular time period/interval. The feature we like to predict \"Wholesale market price\" is available every 60 minutes. This implies that the input features which are currently available every 15 minutes need to be reduced to once every 60 minutes to correspond with the predicted feature.\n",
    "\n",
    "**Why is this data set relevant for the problem?**\n",
    "\n",
    "From the information presented in [2], we see clearly\n",
    "\n",
    "#### <font color='blue'>The electricity market brings supply and demand together.</font>\n",
    "#### <font color='blue'>The main element to control the market is the Price.</font>\n",
    "\n",
    "We already have supply data i.e. energy supply data from different sources and demand data which is the consumption data. We also have the energy price for any give time period. If supply and demand are key factors which influence the price, we already have the relevant data to analyse using Supervised Machine Learning."
   ]
  },
  {
   "cell_type": "markdown",
   "metadata": {},
   "source": [
    "## Solution Statement\n",
    "\n",
    "The prediction of the wholesale market price of energy is a regression problem. We can use regression techniques such as:\n",
    "1. Linear Regression\n",
    "2. Polynomial Regression\n",
    "3. Ridge and Lasso Regression\n",
    "4. Decision Tree Regression\n",
    "\n",
    "The mathematical expression for linear regression is \n",
    "\n",
    "\\begin{equation*}\n",
    "y = m_1x_1 + m_2x_2 + m_3x_3 + ... + m_nx_n + b\n",
    "\\end{equation*}\n",
    "\n",
    "where,<br>\n",
    "y = prediction <br>\n",
    "$m_{1}$,$m_{2}$,$m_{3}$...$m_{n}$ are coefficients / slopes <br>\n",
    "$x_{1}$,$x_{2}$,$x_{3}$...$x_{n}$ are the predictor variables in \"n\" dimensions <br>\n",
    "b is the y-intercept\n",
    "\n",
    "Similarly, the mathematical expression for a polynomial regression is \n",
    "\n",
    "\\begin{equation*}\n",
    "y = m_1x^{3} + m_2x^{2} + m_3x + m_4\n",
    "\\end{equation*}\n",
    "\n",
    "For the problem at hand, it is clear that the energy price is dependent on supply and demand. If we're able to establish a relationship (correlate) between supply and demand using one the the regression techniques available, we should be able to determine the how this relationship influences the energy pricing. At the moment it is still unclear, if the regression is linear or polynomial. I hope to find more information when I analyze the data. "
   ]
  },
  {
   "cell_type": "markdown",
   "metadata": {},
   "source": [
    "## Benchmark Model\n",
    "\n",
    "*Electricity is grid-based and very difficult to store. Although batteries can be found in every household, most technologies for the storage of electricity on a large scale are still limited. They are either not fully developed or not profitable on the market. This means that electricity must be produced at the same moment that it is consumed*\n",
    "\n",
    "*The electricity market is made up of submarkets with different Prices.\n",
    "There are therefore different trading products on the exchange with different periods of time between purchase and actual supply. Electricity can be traded several years in advance on the futures market and buyers use these long-term contracts to hedge against the risk of rising prices. For this planning certainty, they pay a premium, which sellers then register as additional revenue. Long-term contracts secure income for the producers, which they can use to finance new generating capacity, for example.*\n",
    "\n",
    "*As the day of supply draws closer, the actual volumes of consumption and generation can be predicted more accurately, so the short-term spot market consists of two markets with different lead times: the day-ahead and intraday markets. Market players on the day-ahead market trade in electricity for the following day. Bids and offers specifying the amount and supply time must be submitted by midday. The exchange then determines the wholesale price for each hour of the next day and accepts the winning bids and offers. The wholesale price determined in this way is an important reference value for the electricity market, rather like the closing price of a stock on the stock market. For this reason, the day-ahead wholesale prices of the most important electricity exchange EPEX are shown on the SMARD website. Electricity can be traded until 30 minutes before supply in the continuous intraday trading.* [2]\n",
    "\n",
    "There is currently no benchmark model available for the problem at hand. My benchmark model would be using a Linear Regressor in the capstone project to predict the wholesale energy price. This benchmark model will be challenged by other supervised regression techniques to achieve a better result."
   ]
  },
  {
   "cell_type": "markdown",
   "metadata": {},
   "source": [
    "## Evaluation Metrics\n",
    "\n",
    "The Evaluation metrics[3] for a Regression based problem are:\n",
    "\n",
    "1. Mean Absolute Error\n",
    "2. Mean Squared Error\n",
    "3. Mean squared logarithmic error\n",
    "4. Median absolute error\n",
    "5. R2 Score\n",
    "\n",
    "I choose R2 Score for the benchmark model and the solution model."
   ]
  },
  {
   "cell_type": "markdown",
   "metadata": {},
   "source": [
    "## Project Design\n",
    "\n",
    "The following phases are revelant:\n",
    "\n",
    "1. **Data Preparation** - Data first needs to be collected and pre-screened for relevance and completeness. The the data can be visualized to check for relationships between different variables and outliers. The data may also need to be normalized and scaled. This data is split into training and testing sets. We will use the majority of the data for training and evaluate model performance later on using the testing set.\n",
    "<br>\n",
    "2. **Model Selection & Experimentation** - There are many models available for regression. We will try different models in this step and choose the model with the best prediction.\n",
    "<br>\n",
    "3. **Model Training** - In the data prepraration step we already split the data set into Training and testing set. We will use the training data set to train the model. If necessary we also can use a subset of dat for cross validation, to make sure the model doesn't overfit.\n",
    "<br>\n",
    "4. **Model Evaluation** - In this step we feed the trained model data it hasn't seen before and evaluate how good the prediction is.\n",
    "<br>\n",
    "5. **Model Parameter Tuning** - Once we know how a chosen model is performing, we can take a look at the model parameters for possibilities to increase prediction rate. The Grid Search technique is a useful tool to determine the best parameters.\n",
    "<br>\n",
    "6. **Prediction** - We have chosen a model and tuned it to our problem. This is the final step which helps us fullfill our problem statement."
   ]
  },
  {
   "cell_type": "markdown",
   "metadata": {},
   "source": [
    "### References\n",
    "\n",
    "1. https://www.smard.de/en/Ueber_uns/5732\n",
    "2. https://www.smard.de/en/wiki-article/5884/5840\n",
    "3. http://scikit-learn.org/stable/modules/model_evaluation.html#regression-metrics\n",
    "4. https://towardsdatascience.com/the-7-steps-of-machine-learning-2877d7e5548e"
   ]
  }
 ],
 "metadata": {
  "kernelspec": {
   "display_name": "Python 3",
   "language": "python",
   "name": "python3"
  },
  "language_info": {
   "codemirror_mode": {
    "name": "ipython",
    "version": 3
   },
   "file_extension": ".py",
   "mimetype": "text/x-python",
   "name": "python",
   "nbconvert_exporter": "python",
   "pygments_lexer": "ipython3",
   "version": "3.6.5"
  }
 },
 "nbformat": 4,
 "nbformat_minor": 2
}
